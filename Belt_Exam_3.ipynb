{
  "nbformat": 4,
  "nbformat_minor": 0,
  "metadata": {
    "colab": {
      "name": "Belt_Exam_3",
      "provenance": [],
      "authorship_tag": "ABX9TyM3usULehO9eqV2B4ilr5KQ",
      "include_colab_link": true
    },
    "kernelspec": {
      "name": "python3",
      "display_name": "Python 3"
    },
    "language_info": {
      "name": "python"
    },
    "accelerator": "GPU"
  },
  "cells": [
    {
      "cell_type": "markdown",
      "metadata": {
        "id": "view-in-github",
        "colab_type": "text"
      },
      "source": [
        "<a href=\"https://colab.research.google.com/github/Neoneto/CodingDojo_Week11/blob/main/Belt_Exam_3.ipynb\" target=\"_parent\"><img src=\"https://colab.research.google.com/assets/colab-badge.svg\" alt=\"Open In Colab\"/></a>"
      ]
    },
    {
      "cell_type": "markdown",
      "source": [
        "#Belt Exam 3\n",
        "Option B: Student Success \\\n",
        "Submitted by Kenneth Alaba"
      ],
      "metadata": {
        "id": "dt7A-0lSjed-"
      }
    },
    {
      "cell_type": "markdown",
      "source": [
        "# Part 1\n",
        "Clustering Using KMeans"
      ],
      "metadata": {
        "id": "0IunmOM2ZvQx"
      }
    },
    {
      "cell_type": "markdown",
      "source": [
        "# Loading the Data"
      ],
      "metadata": {
        "id": "zYc2g0bKjbHl"
      }
    },
    {
      "cell_type": "code",
      "source": [
        "# Imports\n",
        "import numpy as np\n",
        "import pandas as pd\n",
        "\n",
        "import matplotlib.pyplot as plt\n",
        "import seaborn as sns\n",
        "\n",
        "from sklearn.preprocessing import StandardScaler\n",
        "from sklearn.cluster import KMeans, AgglomerativeClustering, DBSCAN\n",
        "from sklearn.metrics import silhouette_score\n",
        "from sklearn.model_selection import train_test_split\n",
        "from tensorflow.keras.models import Sequential\n",
        "from tensorflow.keras.layers import Dense, Dropout\n",
        "import tensorflow as tf\n",
        "from tensorflow.keras.callbacks import EarlyStopping"
      ],
      "metadata": {
        "id": "hLD328qJW8aR"
      },
      "execution_count": 250,
      "outputs": []
    },
    {
      "cell_type": "code",
      "execution_count": 2,
      "metadata": {
        "colab": {
          "base_uri": "https://localhost:8080/"
        },
        "id": "BcJA-UuyWrZd",
        "outputId": "f35faa33-59e4-4595-be92-3c63481f5d4f"
      },
      "outputs": [
        {
          "output_type": "stream",
          "name": "stdout",
          "text": [
            "Mounted at /content/drive\n"
          ]
        }
      ],
      "source": [
        "# Mount the drive\n",
        "from google.colab import drive\n",
        "drive.mount('/content/drive')"
      ]
    },
    {
      "cell_type": "code",
      "source": [
        "# Load the dataset\n",
        "df0 = pd.read_csv('/content/drive/My Drive/Coding Dojo/Belt Exam 3/Option_B_clustering - Option_B_clustering.csv')\n",
        "df0.head()"
      ],
      "metadata": {
        "colab": {
          "base_uri": "https://localhost:8080/",
          "height": 270
        },
        "id": "35ZiRDhvXFUs",
        "outputId": "a1e0a36f-6fe6-48fc-9071-44040d6e9678"
      },
      "execution_count": 3,
      "outputs": [
        {
          "output_type": "execute_result",
          "data": {
            "text/html": [
              "\n",
              "  <div id=\"df-8598a0a3-70c5-4480-a4a1-c8d4da076c75\">\n",
              "    <div class=\"colab-df-container\">\n",
              "      <div>\n",
              "<style scoped>\n",
              "    .dataframe tbody tr th:only-of-type {\n",
              "        vertical-align: middle;\n",
              "    }\n",
              "\n",
              "    .dataframe tbody tr th {\n",
              "        vertical-align: top;\n",
              "    }\n",
              "\n",
              "    .dataframe thead th {\n",
              "        text-align: right;\n",
              "    }\n",
              "</style>\n",
              "<table border=\"1\" class=\"dataframe\">\n",
              "  <thead>\n",
              "    <tr style=\"text-align: right;\">\n",
              "      <th></th>\n",
              "      <th>gender</th>\n",
              "      <th>highest_education</th>\n",
              "      <th>imd_band</th>\n",
              "      <th>age_band</th>\n",
              "      <th>num_of_prev_attempts</th>\n",
              "      <th>studied_credits</th>\n",
              "      <th>disability</th>\n",
              "      <th>passed_course</th>\n",
              "      <th>assess_score_1</th>\n",
              "      <th>assess_score_2</th>\n",
              "      <th>assess_score_3</th>\n",
              "      <th>assess_score_4</th>\n",
              "      <th>assess_score_5</th>\n",
              "    </tr>\n",
              "  </thead>\n",
              "  <tbody>\n",
              "    <tr>\n",
              "      <th>0</th>\n",
              "      <td>1</td>\n",
              "      <td>2</td>\n",
              "      <td>9</td>\n",
              "      <td>2</td>\n",
              "      <td>0</td>\n",
              "      <td>240</td>\n",
              "      <td>0</td>\n",
              "      <td>1</td>\n",
              "      <td>78</td>\n",
              "      <td>85</td>\n",
              "      <td>80</td>\n",
              "      <td>85</td>\n",
              "      <td>82</td>\n",
              "    </tr>\n",
              "    <tr>\n",
              "      <th>1</th>\n",
              "      <td>0</td>\n",
              "      <td>2</td>\n",
              "      <td>2</td>\n",
              "      <td>1</td>\n",
              "      <td>0</td>\n",
              "      <td>60</td>\n",
              "      <td>0</td>\n",
              "      <td>1</td>\n",
              "      <td>70</td>\n",
              "      <td>68</td>\n",
              "      <td>70</td>\n",
              "      <td>64</td>\n",
              "      <td>60</td>\n",
              "    </tr>\n",
              "    <tr>\n",
              "      <th>2</th>\n",
              "      <td>0</td>\n",
              "      <td>3</td>\n",
              "      <td>5</td>\n",
              "      <td>1</td>\n",
              "      <td>0</td>\n",
              "      <td>60</td>\n",
              "      <td>0</td>\n",
              "      <td>1</td>\n",
              "      <td>72</td>\n",
              "      <td>71</td>\n",
              "      <td>74</td>\n",
              "      <td>88</td>\n",
              "      <td>75</td>\n",
              "    </tr>\n",
              "    <tr>\n",
              "      <th>3</th>\n",
              "      <td>0</td>\n",
              "      <td>1</td>\n",
              "      <td>5</td>\n",
              "      <td>0</td>\n",
              "      <td>0</td>\n",
              "      <td>60</td>\n",
              "      <td>0</td>\n",
              "      <td>1</td>\n",
              "      <td>69</td>\n",
              "      <td>30</td>\n",
              "      <td>63</td>\n",
              "      <td>35</td>\n",
              "      <td>75</td>\n",
              "    </tr>\n",
              "    <tr>\n",
              "      <th>4</th>\n",
              "      <td>1</td>\n",
              "      <td>2</td>\n",
              "      <td>3</td>\n",
              "      <td>0</td>\n",
              "      <td>0</td>\n",
              "      <td>60</td>\n",
              "      <td>0</td>\n",
              "      <td>1</td>\n",
              "      <td>70</td>\n",
              "      <td>65</td>\n",
              "      <td>62</td>\n",
              "      <td>75</td>\n",
              "      <td>68</td>\n",
              "    </tr>\n",
              "  </tbody>\n",
              "</table>\n",
              "</div>\n",
              "      <button class=\"colab-df-convert\" onclick=\"convertToInteractive('df-8598a0a3-70c5-4480-a4a1-c8d4da076c75')\"\n",
              "              title=\"Convert this dataframe to an interactive table.\"\n",
              "              style=\"display:none;\">\n",
              "        \n",
              "  <svg xmlns=\"http://www.w3.org/2000/svg\" height=\"24px\"viewBox=\"0 0 24 24\"\n",
              "       width=\"24px\">\n",
              "    <path d=\"M0 0h24v24H0V0z\" fill=\"none\"/>\n",
              "    <path d=\"M18.56 5.44l.94 2.06.94-2.06 2.06-.94-2.06-.94-.94-2.06-.94 2.06-2.06.94zm-11 1L8.5 8.5l.94-2.06 2.06-.94-2.06-.94L8.5 2.5l-.94 2.06-2.06.94zm10 10l.94 2.06.94-2.06 2.06-.94-2.06-.94-.94-2.06-.94 2.06-2.06.94z\"/><path d=\"M17.41 7.96l-1.37-1.37c-.4-.4-.92-.59-1.43-.59-.52 0-1.04.2-1.43.59L10.3 9.45l-7.72 7.72c-.78.78-.78 2.05 0 2.83L4 21.41c.39.39.9.59 1.41.59.51 0 1.02-.2 1.41-.59l7.78-7.78 2.81-2.81c.8-.78.8-2.07 0-2.86zM5.41 20L4 18.59l7.72-7.72 1.47 1.35L5.41 20z\"/>\n",
              "  </svg>\n",
              "      </button>\n",
              "      \n",
              "  <style>\n",
              "    .colab-df-container {\n",
              "      display:flex;\n",
              "      flex-wrap:wrap;\n",
              "      gap: 12px;\n",
              "    }\n",
              "\n",
              "    .colab-df-convert {\n",
              "      background-color: #E8F0FE;\n",
              "      border: none;\n",
              "      border-radius: 50%;\n",
              "      cursor: pointer;\n",
              "      display: none;\n",
              "      fill: #1967D2;\n",
              "      height: 32px;\n",
              "      padding: 0 0 0 0;\n",
              "      width: 32px;\n",
              "    }\n",
              "\n",
              "    .colab-df-convert:hover {\n",
              "      background-color: #E2EBFA;\n",
              "      box-shadow: 0px 1px 2px rgba(60, 64, 67, 0.3), 0px 1px 3px 1px rgba(60, 64, 67, 0.15);\n",
              "      fill: #174EA6;\n",
              "    }\n",
              "\n",
              "    [theme=dark] .colab-df-convert {\n",
              "      background-color: #3B4455;\n",
              "      fill: #D2E3FC;\n",
              "    }\n",
              "\n",
              "    [theme=dark] .colab-df-convert:hover {\n",
              "      background-color: #434B5C;\n",
              "      box-shadow: 0px 1px 3px 1px rgba(0, 0, 0, 0.15);\n",
              "      filter: drop-shadow(0px 1px 2px rgba(0, 0, 0, 0.3));\n",
              "      fill: #FFFFFF;\n",
              "    }\n",
              "  </style>\n",
              "\n",
              "      <script>\n",
              "        const buttonEl =\n",
              "          document.querySelector('#df-8598a0a3-70c5-4480-a4a1-c8d4da076c75 button.colab-df-convert');\n",
              "        buttonEl.style.display =\n",
              "          google.colab.kernel.accessAllowed ? 'block' : 'none';\n",
              "\n",
              "        async function convertToInteractive(key) {\n",
              "          const element = document.querySelector('#df-8598a0a3-70c5-4480-a4a1-c8d4da076c75');\n",
              "          const dataTable =\n",
              "            await google.colab.kernel.invokeFunction('convertToInteractive',\n",
              "                                                     [key], {});\n",
              "          if (!dataTable) return;\n",
              "\n",
              "          const docLinkHtml = 'Like what you see? Visit the ' +\n",
              "            '<a target=\"_blank\" href=https://colab.research.google.com/notebooks/data_table.ipynb>data table notebook</a>'\n",
              "            + ' to learn more about interactive tables.';\n",
              "          element.innerHTML = '';\n",
              "          dataTable['output_type'] = 'display_data';\n",
              "          await google.colab.output.renderOutput(dataTable, element);\n",
              "          const docLink = document.createElement('div');\n",
              "          docLink.innerHTML = docLinkHtml;\n",
              "          element.appendChild(docLink);\n",
              "        }\n",
              "      </script>\n",
              "    </div>\n",
              "  </div>\n",
              "  "
            ],
            "text/plain": [
              "   gender  highest_education  ...  assess_score_4  assess_score_5\n",
              "0       1                  2  ...              85              82\n",
              "1       0                  2  ...              64              60\n",
              "2       0                  3  ...              88              75\n",
              "3       0                  1  ...              35              75\n",
              "4       1                  2  ...              75              68\n",
              "\n",
              "[5 rows x 13 columns]"
            ]
          },
          "metadata": {},
          "execution_count": 3
        }
      ]
    },
    {
      "cell_type": "code",
      "source": [
        "# Check the df info\n",
        "df0.info()"
      ],
      "metadata": {
        "colab": {
          "base_uri": "https://localhost:8080/"
        },
        "id": "RzyYIZO4XIb4",
        "outputId": "fc7d00b5-03e8-4a8f-dbbb-1f0e6ebf584e"
      },
      "execution_count": 4,
      "outputs": [
        {
          "output_type": "stream",
          "name": "stdout",
          "text": [
            "<class 'pandas.core.frame.DataFrame'>\n",
            "RangeIndex: 12737 entries, 0 to 12736\n",
            "Data columns (total 13 columns):\n",
            " #   Column                Non-Null Count  Dtype\n",
            "---  ------                --------------  -----\n",
            " 0   gender                12737 non-null  int64\n",
            " 1   highest_education     12737 non-null  int64\n",
            " 2   imd_band              12737 non-null  int64\n",
            " 3   age_band              12737 non-null  int64\n",
            " 4   num_of_prev_attempts  12737 non-null  int64\n",
            " 5   studied_credits       12737 non-null  int64\n",
            " 6   disability            12737 non-null  int64\n",
            " 7   passed_course         12737 non-null  int64\n",
            " 8   assess_score_1        12737 non-null  int64\n",
            " 9   assess_score_2        12737 non-null  int64\n",
            " 10  assess_score_3        12737 non-null  int64\n",
            " 11  assess_score_4        12737 non-null  int64\n",
            " 12  assess_score_5        12737 non-null  int64\n",
            "dtypes: int64(13)\n",
            "memory usage: 1.3 MB\n"
          ]
        }
      ]
    },
    {
      "cell_type": "code",
      "source": [
        "# Check for missing values\n",
        "\n",
        "df0.isnull().sum()"
      ],
      "metadata": {
        "colab": {
          "base_uri": "https://localhost:8080/"
        },
        "id": "x6n6GJp1XZGE",
        "outputId": "f7ccdb9b-1287-429f-d405-b5bba91944fd"
      },
      "execution_count": 5,
      "outputs": [
        {
          "output_type": "execute_result",
          "data": {
            "text/plain": [
              "gender                  0\n",
              "highest_education       0\n",
              "imd_band                0\n",
              "age_band                0\n",
              "num_of_prev_attempts    0\n",
              "studied_credits         0\n",
              "disability              0\n",
              "passed_course           0\n",
              "assess_score_1          0\n",
              "assess_score_2          0\n",
              "assess_score_3          0\n",
              "assess_score_4          0\n",
              "assess_score_5          0\n",
              "dtype: int64"
            ]
          },
          "metadata": {},
          "execution_count": 5
        }
      ]
    },
    {
      "cell_type": "markdown",
      "source": [
        "There are no missing values and since all the columns are numerical, we don't need to check for inconsistencies in categorical values."
      ],
      "metadata": {
        "id": "zTfjjqXdXf2p"
      }
    },
    {
      "cell_type": "markdown",
      "source": [
        "# Exploratory Data Analysis"
      ],
      "metadata": {
        "id": "DMnENoK6Xu5Q"
      }
    },
    {
      "cell_type": "code",
      "source": [
        "# Copy the dataframe\n",
        "cluster_df = df0.copy()"
      ],
      "metadata": {
        "id": "wyOxD3hNYOG8"
      },
      "execution_count": 6,
      "outputs": []
    },
    {
      "cell_type": "markdown",
      "source": [
        "## Histogram of all columns\n",
        "By creating a histogram, we can check the distribution of the column and also check for outliers or extreme/unusual values."
      ],
      "metadata": {
        "id": "3gkRJCNrXxVu"
      }
    },
    {
      "cell_type": "code",
      "source": [
        "\n",
        "\n",
        "#fig, ax = plt.subplots(len(cluster_df.columns))\n",
        "\n",
        "\n",
        "\n",
        "# Create a subplot for each column\n",
        "n_plots = np.arange(len(cluster_df.columns))\n",
        "\n",
        "# print(n_plots)\n",
        "\n",
        "for n in n_plots:\n",
        "  plt.figure(n)\n",
        "  plt.hist(cluster_df[cluster_df.columns[n]], edgecolor = 'k', alpha = 0.5)\n",
        "  plt.title(cluster_df.columns[n])\n",
        "  plt.grid(alpha = 0.3)"
      ],
      "metadata": {
        "colab": {
          "base_uri": "https://localhost:8080/",
          "height": 0
        },
        "id": "n-yyy5_1X_TS",
        "outputId": "08decc69-7aa6-4390-f094-972233a6bf72"
      },
      "execution_count": 7,
      "outputs": [
        {
          "output_type": "display_data",
          "data": {
            "image/png": "[encoded data removed]",
            "text/plain": [
              "<Figure size 432x288 with 1 Axes>"
            ]
          },
          "metadata": {
            "needs_background": "light"
          }
        },
        {
          "output_type": "display_data",
          "data": {
            "image/png": "[encoded data removed]",
            "text/plain": [
              "<Figure size 432x288 with 1 Axes>"
            ]
          },
          "metadata": {
            "needs_background": "light"
          }
        },
        {
          "output_type": "display_data",
          "data": {
            "image/png": "[encoded data removed]",
            "text/plain": [
              "<Figure size 432x288 with 1 Axes>"
            ]
          },
          "metadata": {
            "needs_background": "light"
          }
        },
        {
          "output_type": "display_data",
          "data": {
            "image/png": "[encoded data removed]",
            "text/plain": [
              "<Figure size 432x288 with 1 Axes>"
            ]
          },
          "metadata": {
            "needs_background": "light"
          }
        },
        {
          "output_type": "display_data",
          "data": {
            "image/png": "[encoded data removed]",
            "text/plain": [
              "<Figure size 432x288 with 1 Axes>"
            ]
          },
          "metadata": {
            "needs_background": "light"
          }
        },
        {
          "output_type": "display_data",
          "data": {
            "image/png": "[encoded data removed]",
            "text/plain": [
              "<Figure size 432x288 with 1 Axes>"
            ]
          },
          "metadata": {
            "needs_background": "light"
          }
        },
        {
          "output_type": "display_data",
          "data": {
            "image/png": "[encoded data removed]",
            "text/plain": [
              "<Figure size 432x288 with 1 Axes>"
            ]
          },
          "metadata": {
            "needs_background": "light"
          }
        },
        {
          "output_type": "display_data",
          "data": {
            "image/png": "[encoded data removed]",
            "text/plain": [
              "<Figure size 432x288 with 1 Axes>"
            ]
          },
          "metadata": {
            "needs_background": "light"
          }
        },
        {
          "output_type": "display_data",
          "data": {
            "image/png": "[encoded data removed]",
            "text/plain": [
              "<Figure size 432x288 with 1 Axes>"
            ]
          },
          "metadata": {
            "needs_background": "light"
          }
        },
        {
          "output_type": "display_data",
          "data": {
            "image/png": "[encoded data removed]",
            "text/plain": [
              "<Figure size 432x288 with 1 Axes>"
            ]
          },
          "metadata": {
            "needs_background": "light"
          }
        },
        {
          "output_type": "display_data",
          "data": {
            "image/png": "[encoded data removed]",
            "text/plain": [
              "<Figure size 432x288 with 1 Axes>"
            ]
          },
          "metadata": {
            "needs_background": "light"
          }
        },
        {
          "output_type": "display_data",
          "data": {
            "image/png": "[encoded data removed]",
            "text/plain": [
              "<Figure size 432x288 with 1 Axes>"
            ]
          },
          "metadata": {
            "needs_background": "light"
          }
        },
        {
          "output_type": "display_data",
          "data": {
            "image/png": "[encoded data removed]",
            "text/plain": [
              "<Figure size 432x288 with 1 Axes>"
            ]
          },
          "metadata": {
            "needs_background": "light"
          }
        }
      ]
    },
    {
      "cell_type": "markdown",
      "source": [
        "For all the columns, we can clearly see the distributions which means that there are no possible outliers. "
      ],
      "metadata": {
        "id": "3OzOtDZTa9yC"
      }
    },
    {
      "cell_type": "markdown",
      "source": [
        "## PCA\n",
        "Reduce the dimensions to two and visualize the data."
      ],
      "metadata": {
        "id": "A8k9mmPRbzT4"
      }
    },
    {
      "cell_type": "code",
      "source": [
        "# Instantiate Standard Scaler\n",
        "scaler = StandardScaler()\n",
        "# Fit & transform data.\n",
        "cluster_scaled_df = scaler.fit_transform(cluster_df)"
      ],
      "metadata": {
        "id": "hMAw0pvBb84j"
      },
      "execution_count": 8,
      "outputs": []
    },
    {
      "cell_type": "code",
      "source": [
        "# Import PCA\n",
        "from sklearn.decomposition import PCA\n",
        "\n",
        "# Instantiate & fit data using PCA\n",
        "pca = PCA(n_components= 2)\n",
        "\n",
        "\n",
        "# fit PCA\n",
        "X_pca = pca.fit_transform(cluster_scaled_df)\n",
        "X_pca = pca.transform(cluster_scaled_df)"
      ],
      "metadata": {
        "id": "fULbu7EYcQxW"
      },
      "execution_count": 9,
      "outputs": []
    },
    {
      "cell_type": "code",
      "source": [
        "# Visualize the components using scatterplot\n",
        "plt.scatter(X_pca[:,0], X_pca[:,1], s = 1)\n",
        "plt.xlabel('Principal Component 1')\n",
        "plt.ylabel('Principal Component 2')"
      ],
      "metadata": {
        "colab": {
          "base_uri": "https://localhost:8080/",
          "height": 296
        },
        "id": "_itnWcx_c3ju",
        "outputId": "04fdd866-0b9e-421e-da1f-e37bbe4e4430"
      },
      "execution_count": 10,
      "outputs": [
        {
          "output_type": "execute_result",
          "data": {
            "text/plain": [
              "Text(0, 0.5, 'Principal Component 2')"
            ]
          },
          "metadata": {},
          "execution_count": 10
        },
        {
          "output_type": "display_data",
          "data": {
            "image/png": "[encoded data removed]",
            "text/plain": [
              "<Figure size 432x288 with 1 Axes>"
            ]
          },
          "metadata": {
            "needs_background": "light"
          }
        }
      ]
    },
    {
      "cell_type": "markdown",
      "source": [
        "From the plot, we can only see a big single cluster of the data points with a bit of noise. This is not enough to help to determine what clustering model to use.\n",
        "Since there is just a single obvious cluster, becaus k_means depends clustering on the distance between data points, the model might have difficulty and it is possible that the data might be clustered with just a single linear spearation in the middle."
      ],
      "metadata": {
        "id": "6ihqATASdl-s"
      }
    },
    {
      "cell_type": "markdown",
      "source": [
        "## More Visualizations using the raw columns."
      ],
      "metadata": {
        "id": "nlW3d_Vmd-4w"
      }
    },
    {
      "cell_type": "markdown",
      "source": [
        "### Heat map\n",
        "Create a heatmap to visualize which columns have strong correlations."
      ],
      "metadata": {
        "id": "VFqDWxvbeDlk"
      }
    },
    {
      "cell_type": "code",
      "source": [
        "# Calculate teh correlation\n",
        "corr = cluster_df.corr()\n",
        "\n",
        "# Plot a heatmap\n",
        "sns.heatmap(corr, annot = True, mask = (abs(corr) < 0.2)).set(title = 'Columns with Correlation Coefficient of above 0.2')\n",
        "\n",
        "#sns.title('Columns with Correlation Coefficient of above 0.2')\n"
      ],
      "metadata": {
        "colab": {
          "base_uri": "https://localhost:8080/",
          "height": 0
        },
        "id": "QM3OyRtyeJ9T",
        "outputId": "b95b476a-5047-4bdc-b9b1-89afa26fa59f"
      },
      "execution_count": 11,
      "outputs": [
        {
          "output_type": "execute_result",
          "data": {
            "text/plain": [
              "[Text(0.5, 1.0, 'Columns with Correlation Coefficient of above 0.2')]"
            ]
          },
          "metadata": {},
          "execution_count": 11
        },
        {
          "output_type": "display_data",
          "data": {
            "image/png": "[encoded data removed]",
            "text/plain": [
              "<Figure size 432x288 with 2 Axes>"
            ]
          },
          "metadata": {
            "needs_background": "light"
          }
        }
      ]
    },
    {
      "cell_type": "markdown",
      "source": [
        "We can see that there are no columns with strong correlation but the assess scores 4 and 5 have the strongest correlation compared to other columns, although only of moderate strength. "
      ],
      "metadata": {
        "id": "PQqb-5jMd0XT"
      }
    },
    {
      "cell_type": "markdown",
      "source": [
        "### Plot assess_score_4 and assess_score_5"
      ],
      "metadata": {
        "id": "LeMb-GzVfdXG"
      }
    },
    {
      "cell_type": "code",
      "source": [
        "#create a te,porary df as the mean of the 4 assess scores\n",
        "temp_df = pd.DataFrame()\n",
        "temp_df['mean_assess_score'] = cluster_df[['assess_score_1', 'assess_score_2', 'assess_score_3', 'assess_score_4', 'assess_score_5']].mean(axis = 1)\n"
      ],
      "metadata": {
        "id": "JVWGqO3WgNzW"
      },
      "execution_count": 12,
      "outputs": []
    },
    {
      "cell_type": "code",
      "source": [
        "# Create a scatterplot\n",
        "plt.scatter(temp_df, cluster_df.passed_course)\n",
        "plt.xlabel('Mean Assess Score')\n",
        "plt.ylabel('passed_course')"
      ],
      "metadata": {
        "colab": {
          "base_uri": "https://localhost:8080/",
          "height": 0
        },
        "id": "C7g3KerlfjE1",
        "outputId": "6be34c86-68d5-4b8f-af8d-c8aa6068145b"
      },
      "execution_count": 13,
      "outputs": [
        {
          "output_type": "execute_result",
          "data": {
            "text/plain": [
              "Text(0, 0.5, 'passed_course')"
            ]
          },
          "metadata": {},
          "execution_count": 13
        },
        {
          "output_type": "display_data",
          "data": {
            "image/png": "[encoded data removed]",
            "text/plain": [
              "<Figure size 432x288 with 1 Axes>"
            ]
          },
          "metadata": {
            "needs_background": "light"
          }
        }
      ]
    },
    {
      "cell_type": "markdown",
      "source": [
        "We can see that the students who pass the course and not are bot widely spread at different mean scores."
      ],
      "metadata": {
        "id": "_FMLGnHHik3p"
      }
    },
    {
      "cell_type": "code",
      "source": [
        "# reduce the assess scores to 1 principal component.\n",
        "\n",
        "# Fit & transform data.\n",
        "partial_cluster_scaled_df = scaler.fit_transform(cluster_df[['assess_score_1', 'assess_score_2', 'assess_score_3', 'assess_score_4', 'assess_score_5']]) \n",
        "\n",
        "# Instantiate & fit data using PCA\n",
        "partial_pca = PCA(n_components= 1)\n",
        "\n",
        "# fit PCA\n",
        "X_partial_pca = partial_pca.fit_transform(partial_cluster_scaled_df)\n",
        "X_partial_pca = partial_pca.transform(partial_cluster_scaled_df)\n",
        "\n",
        "plt.scatter(X_partial_pca, cluster_df.passed_course)"
      ],
      "metadata": {
        "colab": {
          "base_uri": "https://localhost:8080/",
          "height": 0
        },
        "id": "XvZa84lwgyAq",
        "outputId": "7777715a-b811-4c0e-c58d-ff4c7fce19b7"
      },
      "execution_count": 14,
      "outputs": [
        {
          "output_type": "execute_result",
          "data": {
            "text/plain": [
              "<matplotlib.collections.PathCollection at 0x7f120d991cd0>"
            ]
          },
          "metadata": {},
          "execution_count": 14
        },
        {
          "output_type": "display_data",
          "data": {
            "image/png": "[encoded data removed]",
            "text/plain": [
              "<Figure size 432x288 with 1 Axes>"
            ]
          },
          "metadata": {
            "needs_background": "light"
          }
        }
      ]
    },
    {
      "cell_type": "markdown",
      "source": [
        "Similar with the mean scores, we can't see a distinct separation between the data points even when the dimension of the scores are reduced."
      ],
      "metadata": {
        "id": "oV8lypphjIXC"
      }
    },
    {
      "cell_type": "markdown",
      "source": [
        "# Clustering"
      ],
      "metadata": {
        "id": "JAA70nBWjWoO"
      }
    },
    {
      "cell_type": "code",
      "source": [
        "# Instantiate Standard Scaler\n",
        "scaler = StandardScaler()\n",
        "# Fit & transform data.\n",
        "scaled_cluster_df = scaler.fit_transform(cluster_df)"
      ],
      "metadata": {
        "id": "UpPsXRySk6Yz"
      },
      "execution_count": 16,
      "outputs": []
    },
    {
      "cell_type": "code",
      "source": [
        "#Create an empty list of inertias and silhouette_scores\n",
        "inertias = []\n",
        "silhouette_scores = []\n",
        "#Loop through k values between 2 and 10 and store the inertias in the list.\n",
        "for k in range(2,11):  \n",
        "  kmeans = KMeans(n_clusters=k, random_state=0)  \n",
        "  kmeans.fit(scaled_cluster_df)  \n",
        "  inertias.append(kmeans.inertia_)\n",
        "  silhouette_scores.append(silhouette_score(scaled_cluster_df, kmeans.labels_))\n",
        "\n"
      ],
      "metadata": {
        "id": "CfC1LE4_lBTY"
      },
      "execution_count": 17,
      "outputs": []
    },
    {
      "cell_type": "code",
      "source": [
        "kmeans.get_params"
      ],
      "metadata": {
        "colab": {
          "base_uri": "https://localhost:8080/"
        },
        "id": "Q3ad2m_CmCeK",
        "outputId": "b58dd937-f7ce-47ac-bdda-9c38115731c5"
      },
      "execution_count": 18,
      "outputs": [
        {
          "output_type": "execute_result",
          "data": {
            "text/plain": [
              "<bound method BaseEstimator.get_params of KMeans(n_clusters=10, random_state=0)>"
            ]
          },
          "metadata": {},
          "execution_count": 18
        }
      ]
    },
    {
      "cell_type": "code",
      "source": [
        "#Visualize inertia scores\n",
        "plt.plot(range(2,11), inertias, marker = '.')\n",
        "plt.xlabel('clusters')\n",
        "plt.ylabel('inertia')\n",
        "plt.title('Inertias vs Clusters')"
      ],
      "metadata": {
        "colab": {
          "base_uri": "https://localhost:8080/",
          "height": 0
        },
        "id": "djpxCEByljCe",
        "outputId": "c8fa1f05-1c6b-4800-ac09-70315d66bf29"
      },
      "execution_count": 19,
      "outputs": [
        {
          "output_type": "execute_result",
          "data": {
            "text/plain": [
              "Text(0.5, 1.0, 'Inertias vs Clusters')"
            ]
          },
          "metadata": {},
          "execution_count": 19
        },
        {
          "output_type": "display_data",
          "data": {
            "image/png": "[encoded data removed]",
            "text/plain": [
              "<Figure size 432x288 with 1 Axes>"
            ]
          },
          "metadata": {
            "needs_background": "light"
          }
        }
      ]
    },
    {
      "cell_type": "code",
      "source": [
        "# Visualize silhouette scores\n",
        "plt.plot(range(2, 11), silhouette_scores, marker = '.')\n",
        "plt.xlabel('Number of Clusters')\n",
        "plt.ylabel('Silhouette Score')\n",
        "plt.title('Silhouette Scores vs Clusters')"
      ],
      "metadata": {
        "colab": {
          "base_uri": "https://localhost:8080/",
          "height": 0
        },
        "id": "P6-34KKylhkN",
        "outputId": "db3e5ec2-d9b5-4f1d-8713-f4350c877d42"
      },
      "execution_count": 20,
      "outputs": [
        {
          "output_type": "execute_result",
          "data": {
            "text/plain": [
              "Text(0.5, 1.0, 'Silhouette Scores vs Clusters')"
            ]
          },
          "metadata": {},
          "execution_count": 20
        },
        {
          "output_type": "display_data",
          "data": {
            "image/png": "[encoded data removed]",
            "text/plain": [
              "<Figure size 432x288 with 1 Axes>"
            ]
          },
          "metadata": {
            "needs_background": "light"
          }
        }
      ]
    },
    {
      "cell_type": "markdown",
      "source": [
        "From the plot of Inertias, there is no obvious elbow since the inertia scores decrease gradually at almost the same rate. The best candidate for an 'elbow' is around n=5 cluster however its rate of change and its the rate of change of the rate of change (second derivate) doesn't differ significantly from the other clusters.\\\n",
        "From the silhouette scores, the best candicate is n=3 clusters since it has the highest scores compared to others. (However this is still not the best since it has only a score of around 0.18 which is far from 1, which is the ideal score."
      ],
      "metadata": {
        "id": "xdK-pm1O9fI0"
      }
    },
    {
      "cell_type": "markdown",
      "source": [
        "# Creates 3 Clusters"
      ],
      "metadata": {
        "id": "_yjGBuiI-_7I"
      }
    },
    {
      "cell_type": "code",
      "source": [
        "# creates 3 clusters\n",
        "ideal_kmeans = KMeans(n_clusters=3,  random_state=0)  \n",
        "ideal_kmeans.fit(scaled_cluster_df)  \n",
        "\n",
        "# Store the predicted clusters\n",
        "cluster_df['cluster'] = ideal_kmeans.labels_"
      ],
      "metadata": {
        "id": "Q0_l-STA9MvG"
      },
      "execution_count": 22,
      "outputs": []
    },
    {
      "cell_type": "markdown",
      "source": [
        "# Explanatory Data Visualization"
      ],
      "metadata": {
        "id": "rxebg8jVBl21"
      }
    },
    {
      "cell_type": "code",
      "source": [
        "# Create a new column as the arithmetic mean of the 5 assess scores of the students\n",
        "cluster_df['mean_assess_score'] = cluster_df[['assess_score_1', 'assess_score_2', 'assess_score_3', 'assess_score_4', 'assess_score_5', ]].mean(axis = 1)\n",
        "\n",
        "# Add the two principal components of the original columns\n",
        "cluster_df['pc1'] = X_pca[:,0]\n",
        "cluster_df['pc2'] = X_pca[:,1]\n",
        "\n",
        "cluster_df.head()"
      ],
      "metadata": {
        "colab": {
          "base_uri": "https://localhost:8080/",
          "height": 206
        },
        "id": "dJv-XZNoDotV",
        "outputId": "2d9f753d-ae49-4203-8c38-c279ec5ed2d1"
      },
      "execution_count": 104,
      "outputs": [
        {
          "output_type": "execute_result",
          "data": {
            "text/html": [
              "\n",
              "  <div id=\"df-fa264361-67dd-4b00-960e-38583f2af055\">\n",
              "    <div class=\"colab-df-container\">\n",
              "      <div>\n",
              "<style scoped>\n",
              "    .dataframe tbody tr th:only-of-type {\n",
              "        vertical-align: middle;\n",
              "    }\n",
              "\n",
              "    .dataframe tbody tr th {\n",
              "        vertical-align: top;\n",
              "    }\n",
              "\n",
              "    .dataframe thead th {\n",
              "        text-align: right;\n",
              "    }\n",
              "</style>\n",
              "<table border=\"1\" class=\"dataframe\">\n",
              "  <thead>\n",
              "    <tr style=\"text-align: right;\">\n",
              "      <th></th>\n",
              "      <th>gender</th>\n",
              "      <th>highest_education</th>\n",
              "      <th>imd_band</th>\n",
              "      <th>age_band</th>\n",
              "      <th>num_of_prev_attempts</th>\n",
              "      <th>studied_credits</th>\n",
              "      <th>disability</th>\n",
              "      <th>passed_course</th>\n",
              "      <th>assess_score_1</th>\n",
              "      <th>assess_score_2</th>\n",
              "      <th>assess_score_3</th>\n",
              "      <th>assess_score_4</th>\n",
              "      <th>assess_score_5</th>\n",
              "      <th>cluster</th>\n",
              "      <th>mean_assess_score</th>\n",
              "      <th>pc1</th>\n",
              "      <th>pc2</th>\n",
              "    </tr>\n",
              "  </thead>\n",
              "  <tbody>\n",
              "    <tr>\n",
              "      <th>0</th>\n",
              "      <td>1</td>\n",
              "      <td>2</td>\n",
              "      <td>9</td>\n",
              "      <td>2</td>\n",
              "      <td>0</td>\n",
              "      <td>240</td>\n",
              "      <td>0</td>\n",
              "      <td>1</td>\n",
              "      <td>78</td>\n",
              "      <td>85</td>\n",
              "      <td>80</td>\n",
              "      <td>85</td>\n",
              "      <td>82</td>\n",
              "      <td>1</td>\n",
              "      <td>82.0</td>\n",
              "      <td>-1.080274</td>\n",
              "      <td>2.294478</td>\n",
              "    </tr>\n",
              "    <tr>\n",
              "      <th>1</th>\n",
              "      <td>0</td>\n",
              "      <td>2</td>\n",
              "      <td>2</td>\n",
              "      <td>1</td>\n",
              "      <td>0</td>\n",
              "      <td>60</td>\n",
              "      <td>0</td>\n",
              "      <td>1</td>\n",
              "      <td>70</td>\n",
              "      <td>68</td>\n",
              "      <td>70</td>\n",
              "      <td>64</td>\n",
              "      <td>60</td>\n",
              "      <td>2</td>\n",
              "      <td>66.4</td>\n",
              "      <td>0.925016</td>\n",
              "      <td>-1.196087</td>\n",
              "    </tr>\n",
              "    <tr>\n",
              "      <th>2</th>\n",
              "      <td>0</td>\n",
              "      <td>3</td>\n",
              "      <td>5</td>\n",
              "      <td>1</td>\n",
              "      <td>0</td>\n",
              "      <td>60</td>\n",
              "      <td>0</td>\n",
              "      <td>1</td>\n",
              "      <td>72</td>\n",
              "      <td>71</td>\n",
              "      <td>74</td>\n",
              "      <td>88</td>\n",
              "      <td>75</td>\n",
              "      <td>1</td>\n",
              "      <td>76.0</td>\n",
              "      <td>-0.440948</td>\n",
              "      <td>-1.015174</td>\n",
              "    </tr>\n",
              "    <tr>\n",
              "      <th>3</th>\n",
              "      <td>0</td>\n",
              "      <td>1</td>\n",
              "      <td>5</td>\n",
              "      <td>0</td>\n",
              "      <td>0</td>\n",
              "      <td>60</td>\n",
              "      <td>0</td>\n",
              "      <td>1</td>\n",
              "      <td>69</td>\n",
              "      <td>30</td>\n",
              "      <td>63</td>\n",
              "      <td>35</td>\n",
              "      <td>75</td>\n",
              "      <td>2</td>\n",
              "      <td>54.4</td>\n",
              "      <td>2.767566</td>\n",
              "      <td>-1.421016</td>\n",
              "    </tr>\n",
              "    <tr>\n",
              "      <th>4</th>\n",
              "      <td>1</td>\n",
              "      <td>2</td>\n",
              "      <td>3</td>\n",
              "      <td>0</td>\n",
              "      <td>0</td>\n",
              "      <td>60</td>\n",
              "      <td>0</td>\n",
              "      <td>1</td>\n",
              "      <td>70</td>\n",
              "      <td>65</td>\n",
              "      <td>62</td>\n",
              "      <td>75</td>\n",
              "      <td>68</td>\n",
              "      <td>2</td>\n",
              "      <td>68.0</td>\n",
              "      <td>0.895504</td>\n",
              "      <td>0.039423</td>\n",
              "    </tr>\n",
              "  </tbody>\n",
              "</table>\n",
              "</div>\n",
              "      <button class=\"colab-df-convert\" onclick=\"convertToInteractive('df-fa264361-67dd-4b00-960e-38583f2af055')\"\n",
              "              title=\"Convert this dataframe to an interactive table.\"\n",
              "              style=\"display:none;\">\n",
              "        \n",
              "  <svg xmlns=\"http://www.w3.org/2000/svg\" height=\"24px\"viewBox=\"0 0 24 24\"\n",
              "       width=\"24px\">\n",
              "    <path d=\"M0 0h24v24H0V0z\" fill=\"none\"/>\n",
              "    <path d=\"M18.56 5.44l.94 2.06.94-2.06 2.06-.94-2.06-.94-.94-2.06-.94 2.06-2.06.94zm-11 1L8.5 8.5l.94-2.06 2.06-.94-2.06-.94L8.5 2.5l-.94 2.06-2.06.94zm10 10l.94 2.06.94-2.06 2.06-.94-2.06-.94-.94-2.06-.94 2.06-2.06.94z\"/><path d=\"M17.41 7.96l-1.37-1.37c-.4-.4-.92-.59-1.43-.59-.52 0-1.04.2-1.43.59L10.3 9.45l-7.72 7.72c-.78.78-.78 2.05 0 2.83L4 21.41c.39.39.9.59 1.41.59.51 0 1.02-.2 1.41-.59l7.78-7.78 2.81-2.81c.8-.78.8-2.07 0-2.86zM5.41 20L4 18.59l7.72-7.72 1.47 1.35L5.41 20z\"/>\n",
              "  </svg>\n",
              "      </button>\n",
              "      \n",
              "  <style>\n",
              "    .colab-df-container {\n",
              "      display:flex;\n",
              "      flex-wrap:wrap;\n",
              "      gap: 12px;\n",
              "    }\n",
              "\n",
              "    .colab-df-convert {\n",
              "      background-color: #E8F0FE;\n",
              "      border: none;\n",
              "      border-radius: 50%;\n",
              "      cursor: pointer;\n",
              "      display: none;\n",
              "      fill: #1967D2;\n",
              "      height: 32px;\n",
              "      padding: 0 0 0 0;\n",
              "      width: 32px;\n",
              "    }\n",
              "\n",
              "    .colab-df-convert:hover {\n",
              "      background-color: #E2EBFA;\n",
              "      box-shadow: 0px 1px 2px rgba(60, 64, 67, 0.3), 0px 1px 3px 1px rgba(60, 64, 67, 0.15);\n",
              "      fill: #174EA6;\n",
              "    }\n",
              "\n",
              "    [theme=dark] .colab-df-convert {\n",
              "      background-color: #3B4455;\n",
              "      fill: #D2E3FC;\n",
              "    }\n",
              "\n",
              "    [theme=dark] .colab-df-convert:hover {\n",
              "      background-color: #434B5C;\n",
              "      box-shadow: 0px 1px 3px 1px rgba(0, 0, 0, 0.15);\n",
              "      filter: drop-shadow(0px 1px 2px rgba(0, 0, 0, 0.3));\n",
              "      fill: #FFFFFF;\n",
              "    }\n",
              "  </style>\n",
              "\n",
              "      <script>\n",
              "        const buttonEl =\n",
              "          document.querySelector('#df-fa264361-67dd-4b00-960e-38583f2af055 button.colab-df-convert');\n",
              "        buttonEl.style.display =\n",
              "          google.colab.kernel.accessAllowed ? 'block' : 'none';\n",
              "\n",
              "        async function convertToInteractive(key) {\n",
              "          const element = document.querySelector('#df-fa264361-67dd-4b00-960e-38583f2af055');\n",
              "          const dataTable =\n",
              "            await google.colab.kernel.invokeFunction('convertToInteractive',\n",
              "                                                     [key], {});\n",
              "          if (!dataTable) return;\n",
              "\n",
              "          const docLinkHtml = 'Like what you see? Visit the ' +\n",
              "            '<a target=\"_blank\" href=https://colab.research.google.com/notebooks/data_table.ipynb>data table notebook</a>'\n",
              "            + ' to learn more about interactive tables.';\n",
              "          element.innerHTML = '';\n",
              "          dataTable['output_type'] = 'display_data';\n",
              "          await google.colab.output.renderOutput(dataTable, element);\n",
              "          const docLink = document.createElement('div');\n",
              "          docLink.innerHTML = docLinkHtml;\n",
              "          element.appendChild(docLink);\n",
              "        }\n",
              "      </script>\n",
              "    </div>\n",
              "  </div>\n",
              "  "
            ],
            "text/plain": [
              "   gender  highest_education  imd_band  ...  mean_assess_score       pc1       pc2\n",
              "0       1                  2         9  ...               82.0 -1.080274  2.294478\n",
              "1       0                  2         2  ...               66.4  0.925016 -1.196087\n",
              "2       0                  3         5  ...               76.0 -0.440948 -1.015174\n",
              "3       0                  1         5  ...               54.4  2.767566 -1.421016\n",
              "4       1                  2         3  ...               68.0  0.895504  0.039423\n",
              "\n",
              "[5 rows x 17 columns]"
            ]
          },
          "metadata": {},
          "execution_count": 104
        }
      ]
    },
    {
      "cell_type": "code",
      "source": [
        "# Create separate dataframes based on cluster\n",
        "cluster_0 = cluster_df.loc[cluster_df.cluster == 0].drop(columns = 'cluster')\n",
        "cluster_1 = cluster_df.loc[cluster_df.cluster == 1].drop(columns = 'cluster')\n",
        "cluster_2 = cluster_df.loc[cluster_df.cluster == 2].drop(columns = 'cluster')\n"
      ],
      "metadata": {
        "id": "MfNaa-L_Jk-I"
      },
      "execution_count": 105,
      "outputs": []
    },
    {
      "cell_type": "code",
      "source": [
        "# Create a scatterplot of the clusters against the principal components\n",
        "plt.scatter(cluster_1.pc1, cluster_1.pc2, c = 'g' , label = 'Cluster 1', s = 5, alpha = 0.3)\n",
        "plt.scatter(cluster_2.pc1, cluster_2.pc2, c = 'b' , label = 'Cluster 2', s = 5, alpha = 0.3)\n",
        "plt.scatter(cluster_0.pc1, cluster_0.pc2, c = 'r' , label = 'Cluster 0', s = 5, alpha = 0.3)\n",
        "plt.legend()\n",
        "plt.grid(alpha = 0.2)\n",
        "plt.xlabel('Principal Component 1')\n",
        "plt.ylabel('Principal Component 2')\n",
        "plt.title('Student Segmentation')\n"
      ],
      "metadata": {
        "colab": {
          "base_uri": "https://localhost:8080/",
          "height": 312
        },
        "id": "-d2J-FFvNmYZ",
        "outputId": "f13952a9-b963-47a3-aaf6-7642775dc27b"
      },
      "execution_count": 115,
      "outputs": [
        {
          "output_type": "execute_result",
          "data": {
            "text/plain": [
              "Text(0.5, 1.0, 'Student Segmentation')"
            ]
          },
          "metadata": {},
          "execution_count": 115
        },
        {
          "output_type": "display_data",
          "data": {
            "image/png": "[encoded data removed]",
            "text/plain": [
              "<Figure size 432x288 with 1 Axes>"
            ]
          },
          "metadata": {
            "needs_background": "light"
          }
        }
      ]
    },
    {
      "cell_type": "markdown",
      "source": [
        "From the plot of the pricipal components and the clusters, ther eis no obvious distinction between the created student segments which might suggest that it is not a good idea to create student segments based on the presented data. It is also possible that the Kmeans clustering is not the best model for this dataset."
      ],
      "metadata": {
        "id": "abYRhSX3Oqui"
      }
    },
    {
      "cell_type": "code",
      "source": [
        "# Create a scatterplot of the clusters against the principal components\n",
        "plt.scatter(cluster_1.mean_assess_score, cluster_1.highest_education, c = 'g' , label = 'Cluster 1', s = 5, alpha = 0.3)\n",
        "plt.scatter(cluster_2.mean_assess_score, cluster_2.highest_education, c = 'b' , label = 'Cluster 2', s = 5, alpha = 0.3)\n",
        "plt.scatter(cluster_0.mean_assess_score, cluster_0.highest_education, c = 'r' , label = 'Cluster 0', s = 5, alpha = 0.3)\n",
        "plt.legend()\n",
        "plt.grid(alpha = 0.2)\n",
        "plt.xlabel('Average Assess Scores (from 5 scores)')\n",
        "plt.ylabel('Highest Education')\n",
        "plt.title('Student Segmentation')\n"
      ],
      "metadata": {
        "colab": {
          "base_uri": "https://localhost:8080/",
          "height": 312
        },
        "id": "Ja4W0fPYP1WL",
        "outputId": "40ee0155-1729-4adb-bb7c-7ce479896b08"
      },
      "execution_count": 121,
      "outputs": [
        {
          "output_type": "execute_result",
          "data": {
            "text/plain": [
              "Text(0.5, 1.0, 'Student Segmentation')"
            ]
          },
          "metadata": {},
          "execution_count": 121
        },
        {
          "output_type": "display_data",
          "data": {
            "image/png": "[encoded data removed]",
            "text/plain": [
              "<Figure size 432x288 with 1 Axes>"
            ]
          },
          "metadata": {
            "needs_background": "light"
          }
        }
      ]
    },
    {
      "cell_type": "code",
      "source": [
        "# Create a scatterplot\n",
        "plt.scatter(cluster_1.mean_assess_score, cluster_1.imd_band, c = 'g' , label = 'Cluster 1', s = 5, alpha = 0.3)\n",
        "plt.scatter(cluster_2.mean_assess_score, cluster_2.imd_band, c = 'b' , label = 'Cluster 2', s = 5, alpha = 0.3)\n",
        "plt.scatter(cluster_0.mean_assess_score, cluster_0.imd_band, c = 'r' , label = 'Cluster 0', s = 5, alpha = 0.3)\n",
        "plt.legend()\n",
        "plt.grid(alpha = 0.2)\n",
        "plt.xlabel('Average Assess Scores (from 5 scores)')\n",
        "plt.ylabel('IMD Band')\n",
        "plt.title('Student Segmentation')"
      ],
      "metadata": {
        "colab": {
          "base_uri": "https://localhost:8080/",
          "height": 312
        },
        "id": "y2E79JRxQl1f",
        "outputId": "74755960-23b2-486c-d84d-f9f4772fb5ab"
      },
      "execution_count": 122,
      "outputs": [
        {
          "output_type": "execute_result",
          "data": {
            "text/plain": [
              "Text(0.5, 1.0, 'Student Segmentation')"
            ]
          },
          "metadata": {},
          "execution_count": 122
        },
        {
          "output_type": "display_data",
          "data": {
            "image/png": "[encoded data removed]",
            "text/plain": [
              "<Figure size 432x288 with 1 Axes>"
            ]
          },
          "metadata": {
            "needs_background": "light"
          }
        }
      ]
    },
    {
      "cell_type": "markdown",
      "source": [
        "Even from factors which you would expect to have an impact to student segmentation in an online environment such as Highest Education, IMD Band, and the average of their Assess Scores, there is no obvious distinction between the clusters."
      ],
      "metadata": {
        "id": "R25bySY5QzVo"
      }
    },
    {
      "cell_type": "code",
      "source": [
        "# Create a scatterplot\n",
        "plt.scatter(cluster_1.mean_assess_score, cluster_1.disability, c = 'g' , label = 'Cluster 1', s = 5, alpha = 0.3)\n",
        "plt.scatter(cluster_2.mean_assess_score, cluster_2.disability, c = 'b' , label = 'Cluster 2', s = 5, alpha = 0.3)\n",
        "plt.scatter(cluster_0.mean_assess_score, cluster_0.disability, c = 'r' , label = 'Cluster 0', s = 5, alpha = 0.3)\n",
        "plt.legend()\n",
        "plt.grid(alpha = 0.2)\n",
        "plt.xlabel('Average Assess Scores (from 5 scores)')\n",
        "plt.ylabel('IMD Band')\n",
        "plt.title('Student Segmentation')"
      ],
      "metadata": {
        "colab": {
          "base_uri": "https://localhost:8080/",
          "height": 312
        },
        "id": "fSfzWDosRPby",
        "outputId": "a7d53e70-51b3-48d8-872e-5fbc4e51b0dd"
      },
      "execution_count": 123,
      "outputs": [
        {
          "output_type": "execute_result",
          "data": {
            "text/plain": [
              "Text(0.5, 1.0, 'Student Segmentation')"
            ]
          },
          "metadata": {},
          "execution_count": 123
        },
        {
          "output_type": "display_data",
          "data": {
            "image/png": "[encoded data removed]",
            "text/plain": [
              "<Figure size 432x288 with 1 Axes>"
            ]
          },
          "metadata": {
            "needs_background": "light"
          }
        }
      ]
    },
    {
      "cell_type": "markdown",
      "source": [
        "If this segmentation were to followed, one of the obvious distinction is based on whether the student has a disability and on their average assess scores. We can see that cluster 0 is only composed of people with disability (1) and have high average assess scores while cluster 1 is composed only of people without disability and also have high scores. Cluster two on the other hand is a mix of students with and without disability but majority has no disability. Regardless of their disability, this cluster is composed of students with lower scores. \\\n",
        "By followng this segmentation, it is possible to face ethical issues like discrimination against people with disability."
      ],
      "metadata": {
        "id": "6n05kvKMSOPY"
      }
    },
    {
      "cell_type": "code",
      "source": [
        "assess = ['assess_score_1', 'assess_score_2', 'assess_score_3', 'assess_score_4', 'assess_score_5', ]\n",
        "\n",
        "N = 5#len(assess) + 1\n",
        "ind = np.arange(N) + 1\n",
        "width = 0.25\n",
        "  \n",
        "c0_vals = cluster_0[assess].mean()[:N]\n",
        "bar0 = plt.bar(ind, c0_vals, width, color = 'r', alpha = 0.5, edgecolor = 'k')\n",
        "\n",
        "c1_vals = cluster_1[assess].mean()[:N]\n",
        "bar1 = plt.bar(ind + width, c1_vals, width, color = 'g', alpha = 0.5, edgecolor = 'k')\n",
        "  \n",
        "c2_vals = cluster_2[assess].mean()[:N]\n",
        "bar2 = plt.bar(ind + width*2, c2_vals, width, color = 'b', alpha = 0.5, edgecolor = 'k')\n",
        "  \n",
        "plt.xlabel('Assess Number')\n",
        "plt.ylabel('Average Score')\n",
        "plt.title('Average Assess Scores of Each Cluster')\n",
        "\n",
        "plt.grid(alpha = 0.2) \n",
        "plt.xticks(ind+width,ind)\n",
        "plt.legend( (bar0, bar1, bar2), ('Cluster 0', 'Cluster 1', 'Cluster 2') )\n",
        "plt.show()"
      ],
      "metadata": {
        "colab": {
          "base_uri": "https://localhost:8080/",
          "height": 295
        },
        "id": "NKGDN1fQUYK2",
        "outputId": "56fe92cf-b73b-4555-97e2-c6c581d63699"
      },
      "execution_count": 143,
      "outputs": [
        {
          "output_type": "display_data",
          "data": {
            "image/png": "[encoded data removed]",
            "text/plain": [
              "<Figure size 432x288 with 1 Axes>"
            ]
          },
          "metadata": {
            "needs_background": "light"
          }
        }
      ]
    },
    {
      "cell_type": "markdown",
      "source": [
        "From this plot, we can see that the average scores for all Assessments of Cluster 1 is the highest followed by Cluster 0 and then Cluster 2. "
      ],
      "metadata": {
        "id": "ap9BQOtJXAo9"
      }
    },
    {
      "cell_type": "code",
      "source": [
        "# Histograms of \n",
        "bins = np.arange(0,105,5) \n",
        "\n",
        "plt.hist(cluster_1.mean_assess_score, density = True, alpha = 0.5, edgecolor = 'k', bins = bins, color = 'g', label = 'Cluster 1')\n",
        "plt.hist(cluster_2.mean_assess_score, density = True, alpha = 0.5, edgecolor = 'k', bins = bins, color = 'b', label = 'Cluster 2')\n",
        "plt.hist(cluster_0.mean_assess_score, density = True, alpha = 0.5, edgecolor = 'k', bins = bins, color = 'r', label = 'Cluster 0')\n",
        "\n",
        "plt.legend()\n",
        "\n",
        "plt.grid(alpha = 0.2)\n",
        "plt.xlabel('Average Assess Scores')\n",
        "plt.ylabel('Density')\n",
        "plt.title('Score Distribution of the Clusters')"
      ],
      "metadata": {
        "colab": {
          "base_uri": "https://localhost:8080/",
          "height": 312
        },
        "id": "aXmXs39RXSfE",
        "outputId": "a54709a2-ce88-455b-86a8-cfbfd1445216"
      },
      "execution_count": 160,
      "outputs": [
        {
          "output_type": "execute_result",
          "data": {
            "text/plain": [
              "Text(0.5, 1.0, 'Score Distribution of the Clusters')"
            ]
          },
          "metadata": {},
          "execution_count": 160
        },
        {
          "output_type": "display_data",
          "data": {
            "image/png": "[encoded data removed]",
            "text/plain": [
              "<Figure size 432x288 with 1 Axes>"
            ]
          },
          "metadata": {
            "needs_background": "light"
          }
        }
      ]
    },
    {
      "cell_type": "markdown",
      "source": [
        "# Part 2\n",
        "Modeling"
      ],
      "metadata": {
        "id": "VgutpruXZ0Nf"
      }
    },
    {
      "cell_type": "markdown",
      "source": [
        "# Loading the new data."
      ],
      "metadata": {
        "id": "1yrHWKhlgygB"
      }
    },
    {
      "cell_type": "code",
      "source": [
        "# Load the new dataset\n",
        "df1 = pd.read_csv('/content/drive/My Drive/Coding Dojo/Belt Exam 3/Option_B_modeling.csv')\n",
        "df1.head()"
      ],
      "metadata": {
        "colab": {
          "base_uri": "https://localhost:8080/",
          "height": 300
        },
        "id": "C4WZykEIZ9oD",
        "outputId": "16743cd6-25f8-4ffa-b851-752e52bed972"
      },
      "execution_count": 161,
      "outputs": [
        {
          "output_type": "execute_result",
          "data": {
            "text/html": [
              "\n",
              "  <div id=\"df-6cb4a1e1-e82e-408f-97cf-128a3c08ea80\">\n",
              "    <div class=\"colab-df-container\">\n",
              "      <div>\n",
              "<style scoped>\n",
              "    .dataframe tbody tr th:only-of-type {\n",
              "        vertical-align: middle;\n",
              "    }\n",
              "\n",
              "    .dataframe tbody tr th {\n",
              "        vertical-align: top;\n",
              "    }\n",
              "\n",
              "    .dataframe thead th {\n",
              "        text-align: right;\n",
              "    }\n",
              "</style>\n",
              "<table border=\"1\" class=\"dataframe\">\n",
              "  <thead>\n",
              "    <tr style=\"text-align: right;\">\n",
              "      <th></th>\n",
              "      <th>gender</th>\n",
              "      <th>highest_education</th>\n",
              "      <th>imd_band</th>\n",
              "      <th>age_band</th>\n",
              "      <th>num_of_prev_attempts</th>\n",
              "      <th>studied_credits</th>\n",
              "      <th>disability</th>\n",
              "      <th>passed_course</th>\n",
              "      <th>assess_score_1</th>\n",
              "      <th>assess_score_2</th>\n",
              "      <th>assess_score_3</th>\n",
              "      <th>assess_score_4</th>\n",
              "      <th>assess_score_5</th>\n",
              "      <th>assess_submitted_1</th>\n",
              "      <th>assess_submitted_2</th>\n",
              "      <th>assess_submitted_3</th>\n",
              "      <th>assess_submitted_4</th>\n",
              "      <th>assess_submitted_5</th>\n",
              "      <th>assess_submitted_6</th>\n",
              "      <th>assess_score_6</th>\n",
              "      <th>assess_submitted_7</th>\n",
              "      <th>assess_score_7</th>\n",
              "      <th>assess_submitted_8</th>\n",
              "      <th>assess_score_8</th>\n",
              "      <th>assess_submitted_9</th>\n",
              "      <th>assess_score_9</th>\n",
              "      <th>assess_submitted_10</th>\n",
              "      <th>assess_score_10</th>\n",
              "      <th>assess_submitted_11</th>\n",
              "      <th>assess_score_11</th>\n",
              "      <th>assess_submitted_12</th>\n",
              "      <th>assess_score_12</th>\n",
              "      <th>assess_submitted_13</th>\n",
              "      <th>assess_score_13</th>\n",
              "      <th>assess_submitted_14</th>\n",
              "      <th>assess_score_14</th>\n",
              "      <th>sum_activities_-25</th>\n",
              "      <th>sum_click_-25</th>\n",
              "      <th>activities_x_clicks_-25</th>\n",
              "      <th>sum_activities_-24</th>\n",
              "      <th>...</th>\n",
              "      <th>sum_activities_260</th>\n",
              "      <th>sum_click_260</th>\n",
              "      <th>activities_x_clicks_260</th>\n",
              "      <th>sum_activities_261</th>\n",
              "      <th>sum_click_261</th>\n",
              "      <th>activities_x_clicks_261</th>\n",
              "      <th>sum_activities_262</th>\n",
              "      <th>sum_click_262</th>\n",
              "      <th>activities_x_clicks_262</th>\n",
              "      <th>sum_activities_263</th>\n",
              "      <th>sum_click_263</th>\n",
              "      <th>activities_x_clicks_263</th>\n",
              "      <th>sum_activities_264</th>\n",
              "      <th>sum_click_264</th>\n",
              "      <th>activities_x_clicks_264</th>\n",
              "      <th>sum_activities_265</th>\n",
              "      <th>sum_click_265</th>\n",
              "      <th>activities_x_clicks_265</th>\n",
              "      <th>sum_activities_266</th>\n",
              "      <th>sum_click_266</th>\n",
              "      <th>activities_x_clicks_266</th>\n",
              "      <th>sum_activities_267</th>\n",
              "      <th>sum_click_267</th>\n",
              "      <th>activities_x_clicks_267</th>\n",
              "      <th>sum_activities_268</th>\n",
              "      <th>sum_click_268</th>\n",
              "      <th>activities_x_clicks_268</th>\n",
              "      <th>module_0</th>\n",
              "      <th>module_AAA</th>\n",
              "      <th>module_BBB</th>\n",
              "      <th>module_CCC</th>\n",
              "      <th>module_DDD</th>\n",
              "      <th>module_EEE</th>\n",
              "      <th>module_FFF</th>\n",
              "      <th>module_GGG</th>\n",
              "      <th>presentation_0</th>\n",
              "      <th>presentation_2013B</th>\n",
              "      <th>presentation_2013J</th>\n",
              "      <th>presentation_2014B</th>\n",
              "      <th>presentation_2014J</th>\n",
              "    </tr>\n",
              "  </thead>\n",
              "  <tbody>\n",
              "    <tr>\n",
              "      <th>0</th>\n",
              "      <td>1</td>\n",
              "      <td>2</td>\n",
              "      <td>9</td>\n",
              "      <td>2</td>\n",
              "      <td>0</td>\n",
              "      <td>240</td>\n",
              "      <td>0</td>\n",
              "      <td>1</td>\n",
              "      <td>78.0</td>\n",
              "      <td>85.0</td>\n",
              "      <td>80.0</td>\n",
              "      <td>85.0</td>\n",
              "      <td>82.0</td>\n",
              "      <td>-1.0</td>\n",
              "      <td>-1.0</td>\n",
              "      <td>-2.0</td>\n",
              "      <td>-2.0</td>\n",
              "      <td>-3.0</td>\n",
              "      <td>0.0</td>\n",
              "      <td>0.0</td>\n",
              "      <td>0.0</td>\n",
              "      <td>0.0</td>\n",
              "      <td>0.0</td>\n",
              "      <td>0.0</td>\n",
              "      <td>0.0</td>\n",
              "      <td>0.0</td>\n",
              "      <td>0.0</td>\n",
              "      <td>0.0</td>\n",
              "      <td>0.0</td>\n",
              "      <td>0.0</td>\n",
              "      <td>0.0</td>\n",
              "      <td>0.0</td>\n",
              "      <td>0.0</td>\n",
              "      <td>0.0</td>\n",
              "      <td>0.0</td>\n",
              "      <td>0.0</td>\n",
              "      <td>0.0</td>\n",
              "      <td>0.0</td>\n",
              "      <td>0.0</td>\n",
              "      <td>0.0</td>\n",
              "      <td>...</td>\n",
              "      <td>0.0</td>\n",
              "      <td>0.0</td>\n",
              "      <td>0.0</td>\n",
              "      <td>0.0</td>\n",
              "      <td>0.0</td>\n",
              "      <td>0.0</td>\n",
              "      <td>0.0</td>\n",
              "      <td>0.0</td>\n",
              "      <td>0.0</td>\n",
              "      <td>0.0</td>\n",
              "      <td>0.0</td>\n",
              "      <td>0.0</td>\n",
              "      <td>0.0</td>\n",
              "      <td>0.0</td>\n",
              "      <td>0.0</td>\n",
              "      <td>0.0</td>\n",
              "      <td>0.0</td>\n",
              "      <td>0.0</td>\n",
              "      <td>0.0</td>\n",
              "      <td>0.0</td>\n",
              "      <td>0.0</td>\n",
              "      <td>0.0</td>\n",
              "      <td>0.0</td>\n",
              "      <td>0.0</td>\n",
              "      <td>0.0</td>\n",
              "      <td>0.0</td>\n",
              "      <td>0.0</td>\n",
              "      <td>0</td>\n",
              "      <td>1</td>\n",
              "      <td>0</td>\n",
              "      <td>0</td>\n",
              "      <td>0</td>\n",
              "      <td>0</td>\n",
              "      <td>0</td>\n",
              "      <td>0</td>\n",
              "      <td>0</td>\n",
              "      <td>0</td>\n",
              "      <td>1</td>\n",
              "      <td>0</td>\n",
              "      <td>0</td>\n",
              "    </tr>\n",
              "    <tr>\n",
              "      <th>1</th>\n",
              "      <td>0</td>\n",
              "      <td>2</td>\n",
              "      <td>2</td>\n",
              "      <td>1</td>\n",
              "      <td>0</td>\n",
              "      <td>60</td>\n",
              "      <td>0</td>\n",
              "      <td>1</td>\n",
              "      <td>70.0</td>\n",
              "      <td>68.0</td>\n",
              "      <td>70.0</td>\n",
              "      <td>64.0</td>\n",
              "      <td>60.0</td>\n",
              "      <td>3.0</td>\n",
              "      <td>-2.0</td>\n",
              "      <td>4.0</td>\n",
              "      <td>-2.0</td>\n",
              "      <td>-3.0</td>\n",
              "      <td>0.0</td>\n",
              "      <td>0.0</td>\n",
              "      <td>0.0</td>\n",
              "      <td>0.0</td>\n",
              "      <td>0.0</td>\n",
              "      <td>0.0</td>\n",
              "      <td>0.0</td>\n",
              "      <td>0.0</td>\n",
              "      <td>0.0</td>\n",
              "      <td>0.0</td>\n",
              "      <td>0.0</td>\n",
              "      <td>0.0</td>\n",
              "      <td>0.0</td>\n",
              "      <td>0.0</td>\n",
              "      <td>0.0</td>\n",
              "      <td>0.0</td>\n",
              "      <td>0.0</td>\n",
              "      <td>0.0</td>\n",
              "      <td>0.0</td>\n",
              "      <td>0.0</td>\n",
              "      <td>0.0</td>\n",
              "      <td>0.0</td>\n",
              "      <td>...</td>\n",
              "      <td>0.0</td>\n",
              "      <td>0.0</td>\n",
              "      <td>0.0</td>\n",
              "      <td>0.0</td>\n",
              "      <td>0.0</td>\n",
              "      <td>0.0</td>\n",
              "      <td>0.0</td>\n",
              "      <td>0.0</td>\n",
              "      <td>0.0</td>\n",
              "      <td>0.0</td>\n",
              "      <td>0.0</td>\n",
              "      <td>0.0</td>\n",
              "      <td>0.0</td>\n",
              "      <td>0.0</td>\n",
              "      <td>0.0</td>\n",
              "      <td>0.0</td>\n",
              "      <td>0.0</td>\n",
              "      <td>0.0</td>\n",
              "      <td>0.0</td>\n",
              "      <td>0.0</td>\n",
              "      <td>0.0</td>\n",
              "      <td>0.0</td>\n",
              "      <td>0.0</td>\n",
              "      <td>0.0</td>\n",
              "      <td>0.0</td>\n",
              "      <td>0.0</td>\n",
              "      <td>0.0</td>\n",
              "      <td>0</td>\n",
              "      <td>1</td>\n",
              "      <td>0</td>\n",
              "      <td>0</td>\n",
              "      <td>0</td>\n",
              "      <td>0</td>\n",
              "      <td>0</td>\n",
              "      <td>0</td>\n",
              "      <td>0</td>\n",
              "      <td>0</td>\n",
              "      <td>1</td>\n",
              "      <td>0</td>\n",
              "      <td>0</td>\n",
              "    </tr>\n",
              "    <tr>\n",
              "      <th>2</th>\n",
              "      <td>0</td>\n",
              "      <td>3</td>\n",
              "      <td>5</td>\n",
              "      <td>1</td>\n",
              "      <td>0</td>\n",
              "      <td>60</td>\n",
              "      <td>0</td>\n",
              "      <td>1</td>\n",
              "      <td>72.0</td>\n",
              "      <td>71.0</td>\n",
              "      <td>74.0</td>\n",
              "      <td>88.0</td>\n",
              "      <td>75.0</td>\n",
              "      <td>-2.0</td>\n",
              "      <td>-3.0</td>\n",
              "      <td>-2.0</td>\n",
              "      <td>-1.0</td>\n",
              "      <td>-2.0</td>\n",
              "      <td>0.0</td>\n",
              "      <td>0.0</td>\n",
              "      <td>0.0</td>\n",
              "      <td>0.0</td>\n",
              "      <td>0.0</td>\n",
              "      <td>0.0</td>\n",
              "      <td>0.0</td>\n",
              "      <td>0.0</td>\n",
              "      <td>0.0</td>\n",
              "      <td>0.0</td>\n",
              "      <td>0.0</td>\n",
              "      <td>0.0</td>\n",
              "      <td>0.0</td>\n",
              "      <td>0.0</td>\n",
              "      <td>0.0</td>\n",
              "      <td>0.0</td>\n",
              "      <td>0.0</td>\n",
              "      <td>0.0</td>\n",
              "      <td>0.0</td>\n",
              "      <td>0.0</td>\n",
              "      <td>0.0</td>\n",
              "      <td>0.0</td>\n",
              "      <td>...</td>\n",
              "      <td>0.0</td>\n",
              "      <td>0.0</td>\n",
              "      <td>0.0</td>\n",
              "      <td>1.0</td>\n",
              "      <td>1.0</td>\n",
              "      <td>1.0</td>\n",
              "      <td>0.0</td>\n",
              "      <td>0.0</td>\n",
              "      <td>0.0</td>\n",
              "      <td>0.0</td>\n",
              "      <td>0.0</td>\n",
              "      <td>0.0</td>\n",
              "      <td>1.0</td>\n",
              "      <td>1.0</td>\n",
              "      <td>1.0</td>\n",
              "      <td>0.0</td>\n",
              "      <td>0.0</td>\n",
              "      <td>0.0</td>\n",
              "      <td>0.0</td>\n",
              "      <td>0.0</td>\n",
              "      <td>0.0</td>\n",
              "      <td>0.0</td>\n",
              "      <td>0.0</td>\n",
              "      <td>0.0</td>\n",
              "      <td>0.0</td>\n",
              "      <td>0.0</td>\n",
              "      <td>0.0</td>\n",
              "      <td>0</td>\n",
              "      <td>1</td>\n",
              "      <td>0</td>\n",
              "      <td>0</td>\n",
              "      <td>0</td>\n",
              "      <td>0</td>\n",
              "      <td>0</td>\n",
              "      <td>0</td>\n",
              "      <td>0</td>\n",
              "      <td>0</td>\n",
              "      <td>1</td>\n",
              "      <td>0</td>\n",
              "      <td>0</td>\n",
              "    </tr>\n",
              "    <tr>\n",
              "      <th>3</th>\n",
              "      <td>0</td>\n",
              "      <td>1</td>\n",
              "      <td>5</td>\n",
              "      <td>0</td>\n",
              "      <td>0</td>\n",
              "      <td>60</td>\n",
              "      <td>0</td>\n",
              "      <td>1</td>\n",
              "      <td>69.0</td>\n",
              "      <td>30.0</td>\n",
              "      <td>63.0</td>\n",
              "      <td>35.0</td>\n",
              "      <td>75.0</td>\n",
              "      <td>7.0</td>\n",
              "      <td>21.0</td>\n",
              "      <td>7.0</td>\n",
              "      <td>15.0</td>\n",
              "      <td>7.0</td>\n",
              "      <td>0.0</td>\n",
              "      <td>0.0</td>\n",
              "      <td>0.0</td>\n",
              "      <td>0.0</td>\n",
              "      <td>0.0</td>\n",
              "      <td>0.0</td>\n",
              "      <td>0.0</td>\n",
              "      <td>0.0</td>\n",
              "      <td>0.0</td>\n",
              "      <td>0.0</td>\n",
              "      <td>0.0</td>\n",
              "      <td>0.0</td>\n",
              "      <td>0.0</td>\n",
              "      <td>0.0</td>\n",
              "      <td>0.0</td>\n",
              "      <td>0.0</td>\n",
              "      <td>0.0</td>\n",
              "      <td>0.0</td>\n",
              "      <td>0.0</td>\n",
              "      <td>0.0</td>\n",
              "      <td>0.0</td>\n",
              "      <td>0.0</td>\n",
              "      <td>...</td>\n",
              "      <td>0.0</td>\n",
              "      <td>0.0</td>\n",
              "      <td>0.0</td>\n",
              "      <td>0.0</td>\n",
              "      <td>0.0</td>\n",
              "      <td>0.0</td>\n",
              "      <td>0.0</td>\n",
              "      <td>0.0</td>\n",
              "      <td>0.0</td>\n",
              "      <td>0.0</td>\n",
              "      <td>0.0</td>\n",
              "      <td>0.0</td>\n",
              "      <td>0.0</td>\n",
              "      <td>0.0</td>\n",
              "      <td>0.0</td>\n",
              "      <td>0.0</td>\n",
              "      <td>0.0</td>\n",
              "      <td>0.0</td>\n",
              "      <td>0.0</td>\n",
              "      <td>0.0</td>\n",
              "      <td>0.0</td>\n",
              "      <td>0.0</td>\n",
              "      <td>0.0</td>\n",
              "      <td>0.0</td>\n",
              "      <td>0.0</td>\n",
              "      <td>0.0</td>\n",
              "      <td>0.0</td>\n",
              "      <td>0</td>\n",
              "      <td>1</td>\n",
              "      <td>0</td>\n",
              "      <td>0</td>\n",
              "      <td>0</td>\n",
              "      <td>0</td>\n",
              "      <td>0</td>\n",
              "      <td>0</td>\n",
              "      <td>0</td>\n",
              "      <td>0</td>\n",
              "      <td>1</td>\n",
              "      <td>0</td>\n",
              "      <td>0</td>\n",
              "    </tr>\n",
              "    <tr>\n",
              "      <th>4</th>\n",
              "      <td>1</td>\n",
              "      <td>2</td>\n",
              "      <td>3</td>\n",
              "      <td>0</td>\n",
              "      <td>0</td>\n",
              "      <td>60</td>\n",
              "      <td>0</td>\n",
              "      <td>1</td>\n",
              "      <td>70.0</td>\n",
              "      <td>65.0</td>\n",
              "      <td>62.0</td>\n",
              "      <td>75.0</td>\n",
              "      <td>68.0</td>\n",
              "      <td>1.0</td>\n",
              "      <td>0.0</td>\n",
              "      <td>0.0</td>\n",
              "      <td>0.0</td>\n",
              "      <td>1.0</td>\n",
              "      <td>0.0</td>\n",
              "      <td>0.0</td>\n",
              "      <td>0.0</td>\n",
              "      <td>0.0</td>\n",
              "      <td>0.0</td>\n",
              "      <td>0.0</td>\n",
              "      <td>0.0</td>\n",
              "      <td>0.0</td>\n",
              "      <td>0.0</td>\n",
              "      <td>0.0</td>\n",
              "      <td>0.0</td>\n",
              "      <td>0.0</td>\n",
              "      <td>0.0</td>\n",
              "      <td>0.0</td>\n",
              "      <td>0.0</td>\n",
              "      <td>0.0</td>\n",
              "      <td>0.0</td>\n",
              "      <td>0.0</td>\n",
              "      <td>0.0</td>\n",
              "      <td>0.0</td>\n",
              "      <td>0.0</td>\n",
              "      <td>0.0</td>\n",
              "      <td>...</td>\n",
              "      <td>0.0</td>\n",
              "      <td>0.0</td>\n",
              "      <td>0.0</td>\n",
              "      <td>0.0</td>\n",
              "      <td>0.0</td>\n",
              "      <td>0.0</td>\n",
              "      <td>0.0</td>\n",
              "      <td>0.0</td>\n",
              "      <td>0.0</td>\n",
              "      <td>0.0</td>\n",
              "      <td>0.0</td>\n",
              "      <td>0.0</td>\n",
              "      <td>0.0</td>\n",
              "      <td>0.0</td>\n",
              "      <td>0.0</td>\n",
              "      <td>0.0</td>\n",
              "      <td>0.0</td>\n",
              "      <td>0.0</td>\n",
              "      <td>0.0</td>\n",
              "      <td>0.0</td>\n",
              "      <td>0.0</td>\n",
              "      <td>1.0</td>\n",
              "      <td>1.0</td>\n",
              "      <td>1.0</td>\n",
              "      <td>0.0</td>\n",
              "      <td>0.0</td>\n",
              "      <td>0.0</td>\n",
              "      <td>0</td>\n",
              "      <td>1</td>\n",
              "      <td>0</td>\n",
              "      <td>0</td>\n",
              "      <td>0</td>\n",
              "      <td>0</td>\n",
              "      <td>0</td>\n",
              "      <td>0</td>\n",
              "      <td>0</td>\n",
              "      <td>0</td>\n",
              "      <td>1</td>\n",
              "      <td>0</td>\n",
              "      <td>0</td>\n",
              "    </tr>\n",
              "  </tbody>\n",
              "</table>\n",
              "<p>5 rows × 931 columns</p>\n",
              "</div>\n",
              "      <button class=\"colab-df-convert\" onclick=\"convertToInteractive('df-6cb4a1e1-e82e-408f-97cf-128a3c08ea80')\"\n",
              "              title=\"Convert this dataframe to an interactive table.\"\n",
              "              style=\"display:none;\">\n",
              "        \n",
              "  <svg xmlns=\"http://www.w3.org/2000/svg\" height=\"24px\"viewBox=\"0 0 24 24\"\n",
              "       width=\"24px\">\n",
              "    <path d=\"M0 0h24v24H0V0z\" fill=\"none\"/>\n",
              "    <path d=\"M18.56 5.44l.94 2.06.94-2.06 2.06-.94-2.06-.94-.94-2.06-.94 2.06-2.06.94zm-11 1L8.5 8.5l.94-2.06 2.06-.94-2.06-.94L8.5 2.5l-.94 2.06-2.06.94zm10 10l.94 2.06.94-2.06 2.06-.94-2.06-.94-.94-2.06-.94 2.06-2.06.94z\"/><path d=\"M17.41 7.96l-1.37-1.37c-.4-.4-.92-.59-1.43-.59-.52 0-1.04.2-1.43.59L10.3 9.45l-7.72 7.72c-.78.78-.78 2.05 0 2.83L4 21.41c.39.39.9.59 1.41.59.51 0 1.02-.2 1.41-.59l7.78-7.78 2.81-2.81c.8-.78.8-2.07 0-2.86zM5.41 20L4 18.59l7.72-7.72 1.47 1.35L5.41 20z\"/>\n",
              "  </svg>\n",
              "      </button>\n",
              "      \n",
              "  <style>\n",
              "    .colab-df-container {\n",
              "      display:flex;\n",
              "      flex-wrap:wrap;\n",
              "      gap: 12px;\n",
              "    }\n",
              "\n",
              "    .colab-df-convert {\n",
              "      background-color: #E8F0FE;\n",
              "      border: none;\n",
              "      border-radius: 50%;\n",
              "      cursor: pointer;\n",
              "      display: none;\n",
              "      fill: #1967D2;\n",
              "      height: 32px;\n",
              "      padding: 0 0 0 0;\n",
              "      width: 32px;\n",
              "    }\n",
              "\n",
              "    .colab-df-convert:hover {\n",
              "      background-color: #E2EBFA;\n",
              "      box-shadow: 0px 1px 2px rgba(60, 64, 67, 0.3), 0px 1px 3px 1px rgba(60, 64, 67, 0.15);\n",
              "      fill: #174EA6;\n",
              "    }\n",
              "\n",
              "    [theme=dark] .colab-df-convert {\n",
              "      background-color: #3B4455;\n",
              "      fill: #D2E3FC;\n",
              "    }\n",
              "\n",
              "    [theme=dark] .colab-df-convert:hover {\n",
              "      background-color: #434B5C;\n",
              "      box-shadow: 0px 1px 3px 1px rgba(0, 0, 0, 0.15);\n",
              "      filter: drop-shadow(0px 1px 2px rgba(0, 0, 0, 0.3));\n",
              "      fill: #FFFFFF;\n",
              "    }\n",
              "  </style>\n",
              "\n",
              "      <script>\n",
              "        const buttonEl =\n",
              "          document.querySelector('#df-6cb4a1e1-e82e-408f-97cf-128a3c08ea80 button.colab-df-convert');\n",
              "        buttonEl.style.display =\n",
              "          google.colab.kernel.accessAllowed ? 'block' : 'none';\n",
              "\n",
              "        async function convertToInteractive(key) {\n",
              "          const element = document.querySelector('#df-6cb4a1e1-e82e-408f-97cf-128a3c08ea80');\n",
              "          const dataTable =\n",
              "            await google.colab.kernel.invokeFunction('convertToInteractive',\n",
              "                                                     [key], {});\n",
              "          if (!dataTable) return;\n",
              "\n",
              "          const docLinkHtml = 'Like what you see? Visit the ' +\n",
              "            '<a target=\"_blank\" href=https://colab.research.google.com/notebooks/data_table.ipynb>data table notebook</a>'\n",
              "            + ' to learn more about interactive tables.';\n",
              "          element.innerHTML = '';\n",
              "          dataTable['output_type'] = 'display_data';\n",
              "          await google.colab.output.renderOutput(dataTable, element);\n",
              "          const docLink = document.createElement('div');\n",
              "          docLink.innerHTML = docLinkHtml;\n",
              "          element.appendChild(docLink);\n",
              "        }\n",
              "      </script>\n",
              "    </div>\n",
              "  </div>\n",
              "  "
            ],
            "text/plain": [
              "   gender  highest_education  ...  presentation_2014B  presentation_2014J\n",
              "0       1                  2  ...                   0                   0\n",
              "1       0                  2  ...                   0                   0\n",
              "2       0                  3  ...                   0                   0\n",
              "3       0                  1  ...                   0                   0\n",
              "4       1                  2  ...                   0                   0\n",
              "\n",
              "[5 rows x 931 columns]"
            ]
          },
          "metadata": {},
          "execution_count": 161
        }
      ]
    },
    {
      "cell_type": "markdown",
      "source": [
        "This dataset is said to be cleaned already so we can skip that part."
      ],
      "metadata": {
        "id": "Wq-1OG_oaIiF"
      }
    },
    {
      "cell_type": "code",
      "source": [
        "# Copy the dataframe\n",
        "model_df = df1.copy()"
      ],
      "metadata": {
        "id": "am3MpvoyaPbh"
      },
      "execution_count": 162,
      "outputs": []
    },
    {
      "cell_type": "code",
      "source": [
        "# Split into features and target\n",
        "X = model_df.drop(columns = 'passed_course')\n",
        "y = model_df['passed_course']"
      ],
      "metadata": {
        "id": "s39COc2fa4Ra"
      },
      "execution_count": 165,
      "outputs": []
    },
    {
      "cell_type": "code",
      "source": [
        "# check the distribution of the target\n",
        "y.value_counts(normalize = True)"
      ],
      "metadata": {
        "colab": {
          "base_uri": "https://localhost:8080/"
        },
        "id": "Pa0fwmH8bOiE",
        "outputId": "68b5ca76-f04c-4dd9-9cc6-7c6435b5b677"
      },
      "execution_count": 166,
      "outputs": [
        {
          "output_type": "execute_result",
          "data": {
            "text/plain": [
              "1    0.763131\n",
              "0    0.236869\n",
              "Name: passed_course, dtype: float64"
            ]
          },
          "metadata": {},
          "execution_count": 166
        }
      ]
    },
    {
      "cell_type": "markdown",
      "source": [
        "The dataset is unbalanced and it is important to stratify in splitting."
      ],
      "metadata": {
        "id": "w_Vv_A_WbUvT"
      }
    },
    {
      "cell_type": "markdown",
      "source": [
        "# Train Test Split"
      ],
      "metadata": {
        "id": "0K3iCAwxguEk"
      }
    },
    {
      "cell_type": "code",
      "source": [
        "# train test split\n",
        "X_train, X_test, y_train, y_test = train_test_split(X, y, random_state=42, stratify=y)"
      ],
      "metadata": {
        "id": "sSctcNYLbcww"
      },
      "execution_count": 173,
      "outputs": []
    },
    {
      "cell_type": "markdown",
      "source": [
        "Splitting is done first before any transformations to avoid data leakage."
      ],
      "metadata": {
        "id": "PzAsFV2kdChG"
      }
    },
    {
      "cell_type": "markdown",
      "source": [
        "# PCA"
      ],
      "metadata": {
        "id": "S5MSOK-rgwcb"
      }
    },
    {
      "cell_type": "code",
      "source": [
        "# Instantiate Standard Scaler\n",
        "scaler = StandardScaler()\n",
        "# Fit & transform data.\n",
        "X_train_sc = scaler.fit_transform(X_train)\n",
        "X_test_sc = scaler.fit_transform(X_test)"
      ],
      "metadata": {
        "id": "8J2g4PNeaU6b"
      },
      "execution_count": 174,
      "outputs": []
    },
    {
      "cell_type": "code",
      "source": [
        "# Instantiate & fit data using PCA with default parameters\n",
        "pca = PCA()\n",
        "\n",
        "# Fit and transform train set\n",
        "pca.fit(X_train_sc)\n",
        "X_train_pc = pca.transform(X_train_sc)\n",
        "\n",
        "# Fit and transform test set\n",
        "pca.fit(X_test_sc)\n",
        "X_test_pc = pca.transform(X_test_sc)"
      ],
      "metadata": {
        "id": "SUugowTHdmY6"
      },
      "execution_count": 175,
      "outputs": []
    },
    {
      "cell_type": "code",
      "source": [
        "temp_df = pd.DataFrame(X_test_pc)\n",
        "temp_df.head()"
      ],
      "metadata": {
        "colab": {
          "base_uri": "https://localhost:8080/",
          "height": 386
        },
        "id": "nXwe5HjJeDVJ",
        "outputId": "52a03a86-9386-4082-cc64-43f6fa3631f8"
      },
      "execution_count": 183,
      "outputs": [
        {
          "output_type": "execute_result",
          "data": {
            "text/html": [
              "\n",
              "  <div id=\"df-3384e84b-13ae-4dfc-9a03-d5a7c77625e2\">\n",
              "    <div class=\"colab-df-container\">\n",
              "      <div>\n",
              "<style scoped>\n",
              "    .dataframe tbody tr th:only-of-type {\n",
              "        vertical-align: middle;\n",
              "    }\n",
              "\n",
              "    .dataframe tbody tr th {\n",
              "        vertical-align: top;\n",
              "    }\n",
              "\n",
              "    .dataframe thead th {\n",
              "        text-align: right;\n",
              "    }\n",
              "</style>\n",
              "<table border=\"1\" class=\"dataframe\">\n",
              "  <thead>\n",
              "    <tr style=\"text-align: right;\">\n",
              "      <th></th>\n",
              "      <th>0</th>\n",
              "      <th>1</th>\n",
              "      <th>2</th>\n",
              "      <th>3</th>\n",
              "      <th>4</th>\n",
              "      <th>5</th>\n",
              "      <th>6</th>\n",
              "      <th>7</th>\n",
              "      <th>8</th>\n",
              "      <th>9</th>\n",
              "      <th>10</th>\n",
              "      <th>11</th>\n",
              "      <th>12</th>\n",
              "      <th>13</th>\n",
              "      <th>14</th>\n",
              "      <th>15</th>\n",
              "      <th>16</th>\n",
              "      <th>17</th>\n",
              "      <th>18</th>\n",
              "      <th>19</th>\n",
              "      <th>20</th>\n",
              "      <th>21</th>\n",
              "      <th>22</th>\n",
              "      <th>23</th>\n",
              "      <th>24</th>\n",
              "      <th>25</th>\n",
              "      <th>26</th>\n",
              "      <th>27</th>\n",
              "      <th>28</th>\n",
              "      <th>29</th>\n",
              "      <th>30</th>\n",
              "      <th>31</th>\n",
              "      <th>32</th>\n",
              "      <th>33</th>\n",
              "      <th>34</th>\n",
              "      <th>35</th>\n",
              "      <th>36</th>\n",
              "      <th>37</th>\n",
              "      <th>38</th>\n",
              "      <th>39</th>\n",
              "      <th>...</th>\n",
              "      <th>890</th>\n",
              "      <th>891</th>\n",
              "      <th>892</th>\n",
              "      <th>893</th>\n",
              "      <th>894</th>\n",
              "      <th>895</th>\n",
              "      <th>896</th>\n",
              "      <th>897</th>\n",
              "      <th>898</th>\n",
              "      <th>899</th>\n",
              "      <th>900</th>\n",
              "      <th>901</th>\n",
              "      <th>902</th>\n",
              "      <th>903</th>\n",
              "      <th>904</th>\n",
              "      <th>905</th>\n",
              "      <th>906</th>\n",
              "      <th>907</th>\n",
              "      <th>908</th>\n",
              "      <th>909</th>\n",
              "      <th>910</th>\n",
              "      <th>911</th>\n",
              "      <th>912</th>\n",
              "      <th>913</th>\n",
              "      <th>914</th>\n",
              "      <th>915</th>\n",
              "      <th>916</th>\n",
              "      <th>917</th>\n",
              "      <th>918</th>\n",
              "      <th>919</th>\n",
              "      <th>920</th>\n",
              "      <th>921</th>\n",
              "      <th>922</th>\n",
              "      <th>923</th>\n",
              "      <th>924</th>\n",
              "      <th>925</th>\n",
              "      <th>926</th>\n",
              "      <th>927</th>\n",
              "      <th>928</th>\n",
              "      <th>929</th>\n",
              "    </tr>\n",
              "  </thead>\n",
              "  <tbody>\n",
              "    <tr>\n",
              "      <th>0</th>\n",
              "      <td>-4.509208</td>\n",
              "      <td>-0.993167</td>\n",
              "      <td>0.677302</td>\n",
              "      <td>1.353967</td>\n",
              "      <td>0.334320</td>\n",
              "      <td>-0.836729</td>\n",
              "      <td>-1.320192</td>\n",
              "      <td>-0.247110</td>\n",
              "      <td>-0.246880</td>\n",
              "      <td>-2.019051</td>\n",
              "      <td>0.099296</td>\n",
              "      <td>0.200951</td>\n",
              "      <td>0.539011</td>\n",
              "      <td>-0.090144</td>\n",
              "      <td>-0.633084</td>\n",
              "      <td>-0.497640</td>\n",
              "      <td>0.230438</td>\n",
              "      <td>-0.265542</td>\n",
              "      <td>-2.088947</td>\n",
              "      <td>0.258931</td>\n",
              "      <td>-0.447431</td>\n",
              "      <td>0.338633</td>\n",
              "      <td>-0.329994</td>\n",
              "      <td>-0.052400</td>\n",
              "      <td>-1.542601</td>\n",
              "      <td>-1.283568</td>\n",
              "      <td>-0.268443</td>\n",
              "      <td>0.949998</td>\n",
              "      <td>-0.139819</td>\n",
              "      <td>-0.470523</td>\n",
              "      <td>-0.888043</td>\n",
              "      <td>-0.778402</td>\n",
              "      <td>0.019588</td>\n",
              "      <td>0.911601</td>\n",
              "      <td>-0.785847</td>\n",
              "      <td>-0.124735</td>\n",
              "      <td>-0.722314</td>\n",
              "      <td>0.933767</td>\n",
              "      <td>0.034324</td>\n",
              "      <td>-1.107677</td>\n",
              "      <td>...</td>\n",
              "      <td>0.154031</td>\n",
              "      <td>0.026691</td>\n",
              "      <td>0.244995</td>\n",
              "      <td>0.027084</td>\n",
              "      <td>0.057909</td>\n",
              "      <td>-0.077825</td>\n",
              "      <td>0.091175</td>\n",
              "      <td>0.094332</td>\n",
              "      <td>0.032950</td>\n",
              "      <td>-0.009593</td>\n",
              "      <td>-0.006842</td>\n",
              "      <td>0.012646</td>\n",
              "      <td>-0.089390</td>\n",
              "      <td>0.052266</td>\n",
              "      <td>0.096201</td>\n",
              "      <td>0.008480</td>\n",
              "      <td>0.040790</td>\n",
              "      <td>-0.208331</td>\n",
              "      <td>-0.125649</td>\n",
              "      <td>-0.019327</td>\n",
              "      <td>-0.167319</td>\n",
              "      <td>-0.125870</td>\n",
              "      <td>0.167649</td>\n",
              "      <td>0.023494</td>\n",
              "      <td>-0.000631</td>\n",
              "      <td>0.107856</td>\n",
              "      <td>-0.186136</td>\n",
              "      <td>-0.146013</td>\n",
              "      <td>0.083353</td>\n",
              "      <td>0.017999</td>\n",
              "      <td>-0.044927</td>\n",
              "      <td>-0.021275</td>\n",
              "      <td>-0.070145</td>\n",
              "      <td>-0.117649</td>\n",
              "      <td>0.011588</td>\n",
              "      <td>-0.001655</td>\n",
              "      <td>-3.719281e-16</td>\n",
              "      <td>-1.155957e-14</td>\n",
              "      <td>-3.647302e-17</td>\n",
              "      <td>-7.511493e-16</td>\n",
              "    </tr>\n",
              "    <tr>\n",
              "      <th>1</th>\n",
              "      <td>22.194805</td>\n",
              "      <td>-7.740434</td>\n",
              "      <td>0.984585</td>\n",
              "      <td>-0.001163</td>\n",
              "      <td>1.072414</td>\n",
              "      <td>-2.481372</td>\n",
              "      <td>-3.172104</td>\n",
              "      <td>-2.228719</td>\n",
              "      <td>5.855275</td>\n",
              "      <td>2.203919</td>\n",
              "      <td>-0.626576</td>\n",
              "      <td>-1.326084</td>\n",
              "      <td>-5.832058</td>\n",
              "      <td>2.028284</td>\n",
              "      <td>2.839014</td>\n",
              "      <td>0.387489</td>\n",
              "      <td>4.135955</td>\n",
              "      <td>2.494494</td>\n",
              "      <td>-2.556672</td>\n",
              "      <td>-0.376369</td>\n",
              "      <td>4.173093</td>\n",
              "      <td>-4.741464</td>\n",
              "      <td>-2.568916</td>\n",
              "      <td>1.120313</td>\n",
              "      <td>-8.411999</td>\n",
              "      <td>4.323652</td>\n",
              "      <td>1.120705</td>\n",
              "      <td>6.053663</td>\n",
              "      <td>-0.933496</td>\n",
              "      <td>-6.056548</td>\n",
              "      <td>1.257366</td>\n",
              "      <td>-0.842999</td>\n",
              "      <td>1.385088</td>\n",
              "      <td>2.291455</td>\n",
              "      <td>2.585139</td>\n",
              "      <td>6.407847</td>\n",
              "      <td>4.883542</td>\n",
              "      <td>2.139094</td>\n",
              "      <td>-0.601032</td>\n",
              "      <td>3.762404</td>\n",
              "      <td>...</td>\n",
              "      <td>-0.038117</td>\n",
              "      <td>-0.210871</td>\n",
              "      <td>-0.198416</td>\n",
              "      <td>0.014079</td>\n",
              "      <td>0.304810</td>\n",
              "      <td>-0.126192</td>\n",
              "      <td>-0.220262</td>\n",
              "      <td>0.043990</td>\n",
              "      <td>0.079781</td>\n",
              "      <td>-0.126968</td>\n",
              "      <td>-0.123651</td>\n",
              "      <td>-0.260365</td>\n",
              "      <td>-0.130162</td>\n",
              "      <td>-0.070871</td>\n",
              "      <td>0.078984</td>\n",
              "      <td>0.151970</td>\n",
              "      <td>0.136335</td>\n",
              "      <td>-0.236931</td>\n",
              "      <td>0.055608</td>\n",
              "      <td>0.132269</td>\n",
              "      <td>-0.104789</td>\n",
              "      <td>-0.012442</td>\n",
              "      <td>-0.114455</td>\n",
              "      <td>0.095214</td>\n",
              "      <td>-0.157468</td>\n",
              "      <td>-0.105469</td>\n",
              "      <td>-0.104127</td>\n",
              "      <td>0.118173</td>\n",
              "      <td>-0.177510</td>\n",
              "      <td>0.143198</td>\n",
              "      <td>0.023626</td>\n",
              "      <td>0.003970</td>\n",
              "      <td>-0.064374</td>\n",
              "      <td>0.057067</td>\n",
              "      <td>-0.030529</td>\n",
              "      <td>0.009878</td>\n",
              "      <td>-1.977986e-15</td>\n",
              "      <td>-2.473847e-15</td>\n",
              "      <td>2.387749e-16</td>\n",
              "      <td>-1.439912e-15</td>\n",
              "    </tr>\n",
              "    <tr>\n",
              "      <th>2</th>\n",
              "      <td>-7.963745</td>\n",
              "      <td>0.755208</td>\n",
              "      <td>-0.173733</td>\n",
              "      <td>0.492843</td>\n",
              "      <td>-0.264695</td>\n",
              "      <td>1.506815</td>\n",
              "      <td>-0.444024</td>\n",
              "      <td>-1.246066</td>\n",
              "      <td>-0.138207</td>\n",
              "      <td>1.236224</td>\n",
              "      <td>1.567228</td>\n",
              "      <td>-0.517053</td>\n",
              "      <td>0.197403</td>\n",
              "      <td>0.739211</td>\n",
              "      <td>-0.865305</td>\n",
              "      <td>-1.706143</td>\n",
              "      <td>0.636220</td>\n",
              "      <td>1.101670</td>\n",
              "      <td>-0.090654</td>\n",
              "      <td>-0.243949</td>\n",
              "      <td>-1.029299</td>\n",
              "      <td>-0.116107</td>\n",
              "      <td>-0.502742</td>\n",
              "      <td>0.307110</td>\n",
              "      <td>-0.698398</td>\n",
              "      <td>0.036044</td>\n",
              "      <td>-0.130788</td>\n",
              "      <td>-0.490479</td>\n",
              "      <td>-1.225413</td>\n",
              "      <td>0.204999</td>\n",
              "      <td>0.322442</td>\n",
              "      <td>0.592909</td>\n",
              "      <td>0.568194</td>\n",
              "      <td>0.301098</td>\n",
              "      <td>0.822641</td>\n",
              "      <td>-0.313252</td>\n",
              "      <td>0.296167</td>\n",
              "      <td>0.347416</td>\n",
              "      <td>0.110777</td>\n",
              "      <td>0.528031</td>\n",
              "      <td>...</td>\n",
              "      <td>-0.002233</td>\n",
              "      <td>-0.049497</td>\n",
              "      <td>-0.030180</td>\n",
              "      <td>0.134736</td>\n",
              "      <td>-0.065455</td>\n",
              "      <td>-0.170818</td>\n",
              "      <td>-0.103345</td>\n",
              "      <td>-0.011802</td>\n",
              "      <td>0.075956</td>\n",
              "      <td>0.016435</td>\n",
              "      <td>-0.028997</td>\n",
              "      <td>0.041024</td>\n",
              "      <td>-0.063113</td>\n",
              "      <td>-0.007156</td>\n",
              "      <td>0.020321</td>\n",
              "      <td>0.052141</td>\n",
              "      <td>0.036448</td>\n",
              "      <td>-0.066880</td>\n",
              "      <td>-0.052118</td>\n",
              "      <td>0.035439</td>\n",
              "      <td>0.104935</td>\n",
              "      <td>0.103777</td>\n",
              "      <td>0.064293</td>\n",
              "      <td>-0.044620</td>\n",
              "      <td>-0.071688</td>\n",
              "      <td>0.075794</td>\n",
              "      <td>-0.048539</td>\n",
              "      <td>-0.072574</td>\n",
              "      <td>0.008495</td>\n",
              "      <td>0.019049</td>\n",
              "      <td>-0.041998</td>\n",
              "      <td>-0.086756</td>\n",
              "      <td>0.005927</td>\n",
              "      <td>0.075504</td>\n",
              "      <td>-0.066256</td>\n",
              "      <td>0.002355</td>\n",
              "      <td>-1.201730e-16</td>\n",
              "      <td>-6.861063e-16</td>\n",
              "      <td>-4.706340e-17</td>\n",
              "      <td>5.169272e-17</td>\n",
              "    </tr>\n",
              "    <tr>\n",
              "      <th>3</th>\n",
              "      <td>-4.721889</td>\n",
              "      <td>-0.599146</td>\n",
              "      <td>-0.580952</td>\n",
              "      <td>-0.908282</td>\n",
              "      <td>1.605720</td>\n",
              "      <td>-0.625305</td>\n",
              "      <td>1.310022</td>\n",
              "      <td>-0.006906</td>\n",
              "      <td>-0.817892</td>\n",
              "      <td>1.824141</td>\n",
              "      <td>0.184379</td>\n",
              "      <td>-0.930384</td>\n",
              "      <td>-0.384676</td>\n",
              "      <td>-0.552847</td>\n",
              "      <td>0.381173</td>\n",
              "      <td>0.016751</td>\n",
              "      <td>0.932364</td>\n",
              "      <td>-0.548046</td>\n",
              "      <td>1.697807</td>\n",
              "      <td>0.189835</td>\n",
              "      <td>1.980196</td>\n",
              "      <td>-1.399196</td>\n",
              "      <td>0.761480</td>\n",
              "      <td>-0.518654</td>\n",
              "      <td>0.269682</td>\n",
              "      <td>-1.371137</td>\n",
              "      <td>0.251545</td>\n",
              "      <td>-1.477325</td>\n",
              "      <td>-0.292708</td>\n",
              "      <td>-0.126886</td>\n",
              "      <td>-0.936215</td>\n",
              "      <td>1.336909</td>\n",
              "      <td>1.074109</td>\n",
              "      <td>-0.239877</td>\n",
              "      <td>0.540689</td>\n",
              "      <td>0.663198</td>\n",
              "      <td>-0.297489</td>\n",
              "      <td>0.039175</td>\n",
              "      <td>0.468902</td>\n",
              "      <td>-1.088359</td>\n",
              "      <td>...</td>\n",
              "      <td>0.018856</td>\n",
              "      <td>0.035100</td>\n",
              "      <td>0.139520</td>\n",
              "      <td>-0.057961</td>\n",
              "      <td>-0.139872</td>\n",
              "      <td>-0.097174</td>\n",
              "      <td>0.194045</td>\n",
              "      <td>-0.081927</td>\n",
              "      <td>-0.007878</td>\n",
              "      <td>-0.038398</td>\n",
              "      <td>0.078472</td>\n",
              "      <td>0.038109</td>\n",
              "      <td>0.059910</td>\n",
              "      <td>0.171517</td>\n",
              "      <td>-0.051222</td>\n",
              "      <td>0.015239</td>\n",
              "      <td>0.065929</td>\n",
              "      <td>0.081172</td>\n",
              "      <td>-0.061328</td>\n",
              "      <td>0.128977</td>\n",
              "      <td>0.017790</td>\n",
              "      <td>0.018078</td>\n",
              "      <td>0.076540</td>\n",
              "      <td>-0.019874</td>\n",
              "      <td>0.104917</td>\n",
              "      <td>-0.074219</td>\n",
              "      <td>-0.004371</td>\n",
              "      <td>-0.083873</td>\n",
              "      <td>0.068483</td>\n",
              "      <td>-0.048924</td>\n",
              "      <td>0.103888</td>\n",
              "      <td>-0.103730</td>\n",
              "      <td>0.030114</td>\n",
              "      <td>-0.041177</td>\n",
              "      <td>-0.010916</td>\n",
              "      <td>0.055226</td>\n",
              "      <td>-3.079924e-16</td>\n",
              "      <td>8.495260e-16</td>\n",
              "      <td>-1.018711e-16</td>\n",
              "      <td>-1.342703e-16</td>\n",
              "    </tr>\n",
              "    <tr>\n",
              "      <th>4</th>\n",
              "      <td>-1.947262</td>\n",
              "      <td>-1.959948</td>\n",
              "      <td>2.822434</td>\n",
              "      <td>2.331259</td>\n",
              "      <td>0.352171</td>\n",
              "      <td>-2.698996</td>\n",
              "      <td>0.491916</td>\n",
              "      <td>-0.358596</td>\n",
              "      <td>-0.450334</td>\n",
              "      <td>-1.696222</td>\n",
              "      <td>-0.023391</td>\n",
              "      <td>1.044662</td>\n",
              "      <td>2.768433</td>\n",
              "      <td>-0.121841</td>\n",
              "      <td>-0.682475</td>\n",
              "      <td>-0.359527</td>\n",
              "      <td>0.431755</td>\n",
              "      <td>-0.176892</td>\n",
              "      <td>-3.451638</td>\n",
              "      <td>0.815064</td>\n",
              "      <td>-0.037323</td>\n",
              "      <td>2.870875</td>\n",
              "      <td>1.183959</td>\n",
              "      <td>-0.520805</td>\n",
              "      <td>0.321980</td>\n",
              "      <td>0.055190</td>\n",
              "      <td>-0.242240</td>\n",
              "      <td>2.457511</td>\n",
              "      <td>-0.123020</td>\n",
              "      <td>-0.939941</td>\n",
              "      <td>1.708825</td>\n",
              "      <td>1.935525</td>\n",
              "      <td>-0.410887</td>\n",
              "      <td>0.375352</td>\n",
              "      <td>0.251335</td>\n",
              "      <td>0.190109</td>\n",
              "      <td>-1.354391</td>\n",
              "      <td>1.112285</td>\n",
              "      <td>0.548506</td>\n",
              "      <td>-1.064446</td>\n",
              "      <td>...</td>\n",
              "      <td>-0.043155</td>\n",
              "      <td>0.112266</td>\n",
              "      <td>-0.060098</td>\n",
              "      <td>0.102662</td>\n",
              "      <td>-0.002907</td>\n",
              "      <td>0.125693</td>\n",
              "      <td>0.217494</td>\n",
              "      <td>-0.037885</td>\n",
              "      <td>-0.056999</td>\n",
              "      <td>0.189995</td>\n",
              "      <td>0.229466</td>\n",
              "      <td>0.022233</td>\n",
              "      <td>-0.050555</td>\n",
              "      <td>0.049960</td>\n",
              "      <td>0.090137</td>\n",
              "      <td>-0.159535</td>\n",
              "      <td>0.062710</td>\n",
              "      <td>-0.057726</td>\n",
              "      <td>0.043244</td>\n",
              "      <td>-0.072670</td>\n",
              "      <td>-0.084614</td>\n",
              "      <td>0.025888</td>\n",
              "      <td>0.028901</td>\n",
              "      <td>-0.056970</td>\n",
              "      <td>0.021718</td>\n",
              "      <td>0.069237</td>\n",
              "      <td>-0.014523</td>\n",
              "      <td>-0.050331</td>\n",
              "      <td>-0.018660</td>\n",
              "      <td>0.059409</td>\n",
              "      <td>0.041470</td>\n",
              "      <td>-0.140524</td>\n",
              "      <td>0.043264</td>\n",
              "      <td>-0.002329</td>\n",
              "      <td>-0.008359</td>\n",
              "      <td>-0.024044</td>\n",
              "      <td>5.707395e-16</td>\n",
              "      <td>-5.728311e-16</td>\n",
              "      <td>7.931806e-17</td>\n",
              "      <td>1.727372e-16</td>\n",
              "    </tr>\n",
              "  </tbody>\n",
              "</table>\n",
              "<p>5 rows × 930 columns</p>\n",
              "</div>\n",
              "      <button class=\"colab-df-convert\" onclick=\"convertToInteractive('df-3384e84b-13ae-4dfc-9a03-d5a7c77625e2')\"\n",
              "              title=\"Convert this dataframe to an interactive table.\"\n",
              "              style=\"display:none;\">\n",
              "        \n",
              "  <svg xmlns=\"http://www.w3.org/2000/svg\" height=\"24px\"viewBox=\"0 0 24 24\"\n",
              "       width=\"24px\">\n",
              "    <path d=\"M0 0h24v24H0V0z\" fill=\"none\"/>\n",
              "    <path d=\"M18.56 5.44l.94 2.06.94-2.06 2.06-.94-2.06-.94-.94-2.06-.94 2.06-2.06.94zm-11 1L8.5 8.5l.94-2.06 2.06-.94-2.06-.94L8.5 2.5l-.94 2.06-2.06.94zm10 10l.94 2.06.94-2.06 2.06-.94-2.06-.94-.94-2.06-.94 2.06-2.06.94z\"/><path d=\"M17.41 7.96l-1.37-1.37c-.4-.4-.92-.59-1.43-.59-.52 0-1.04.2-1.43.59L10.3 9.45l-7.72 7.72c-.78.78-.78 2.05 0 2.83L4 21.41c.39.39.9.59 1.41.59.51 0 1.02-.2 1.41-.59l7.78-7.78 2.81-2.81c.8-.78.8-2.07 0-2.86zM5.41 20L4 18.59l7.72-7.72 1.47 1.35L5.41 20z\"/>\n",
              "  </svg>\n",
              "      </button>\n",
              "      \n",
              "  <style>\n",
              "    .colab-df-container {\n",
              "      display:flex;\n",
              "      flex-wrap:wrap;\n",
              "      gap: 12px;\n",
              "    }\n",
              "\n",
              "    .colab-df-convert {\n",
              "      background-color: #E8F0FE;\n",
              "      border: none;\n",
              "      border-radius: 50%;\n",
              "      cursor: pointer;\n",
              "      display: none;\n",
              "      fill: #1967D2;\n",
              "      height: 32px;\n",
              "      padding: 0 0 0 0;\n",
              "      width: 32px;\n",
              "    }\n",
              "\n",
              "    .colab-df-convert:hover {\n",
              "      background-color: #E2EBFA;\n",
              "      box-shadow: 0px 1px 2px rgba(60, 64, 67, 0.3), 0px 1px 3px 1px rgba(60, 64, 67, 0.15);\n",
              "      fill: #174EA6;\n",
              "    }\n",
              "\n",
              "    [theme=dark] .colab-df-convert {\n",
              "      background-color: #3B4455;\n",
              "      fill: #D2E3FC;\n",
              "    }\n",
              "\n",
              "    [theme=dark] .colab-df-convert:hover {\n",
              "      background-color: #434B5C;\n",
              "      box-shadow: 0px 1px 3px 1px rgba(0, 0, 0, 0.15);\n",
              "      filter: drop-shadow(0px 1px 2px rgba(0, 0, 0, 0.3));\n",
              "      fill: #FFFFFF;\n",
              "    }\n",
              "  </style>\n",
              "\n",
              "      <script>\n",
              "        const buttonEl =\n",
              "          document.querySelector('#df-3384e84b-13ae-4dfc-9a03-d5a7c77625e2 button.colab-df-convert');\n",
              "        buttonEl.style.display =\n",
              "          google.colab.kernel.accessAllowed ? 'block' : 'none';\n",
              "\n",
              "        async function convertToInteractive(key) {\n",
              "          const element = document.querySelector('#df-3384e84b-13ae-4dfc-9a03-d5a7c77625e2');\n",
              "          const dataTable =\n",
              "            await google.colab.kernel.invokeFunction('convertToInteractive',\n",
              "                                                     [key], {});\n",
              "          if (!dataTable) return;\n",
              "\n",
              "          const docLinkHtml = 'Like what you see? Visit the ' +\n",
              "            '<a target=\"_blank\" href=https://colab.research.google.com/notebooks/data_table.ipynb>data table notebook</a>'\n",
              "            + ' to learn more about interactive tables.';\n",
              "          element.innerHTML = '';\n",
              "          dataTable['output_type'] = 'display_data';\n",
              "          await google.colab.output.renderOutput(dataTable, element);\n",
              "          const docLink = document.createElement('div');\n",
              "          docLink.innerHTML = docLinkHtml;\n",
              "          element.appendChild(docLink);\n",
              "        }\n",
              "      </script>\n",
              "    </div>\n",
              "  </div>\n",
              "  "
            ],
            "text/plain": [
              "         0         1         2    ...           927           928           929\n",
              "0  -4.509208 -0.993167  0.677302  ... -1.155957e-14 -3.647302e-17 -7.511493e-16\n",
              "1  22.194805 -7.740434  0.984585  ... -2.473847e-15  2.387749e-16 -1.439912e-15\n",
              "2  -7.963745  0.755208 -0.173733  ... -6.861063e-16 -4.706340e-17  5.169272e-17\n",
              "3  -4.721889 -0.599146 -0.580952  ...  8.495260e-16 -1.018711e-16 -1.342703e-16\n",
              "4  -1.947262 -1.959948  2.822434  ... -5.728311e-16  7.931806e-17  1.727372e-16\n",
              "\n",
              "[5 rows x 930 columns]"
            ]
          },
          "metadata": {},
          "execution_count": 183
        }
      ]
    },
    {
      "cell_type": "markdown",
      "source": [
        "For both the train and test sets, the PCA has reduced the total number of columns by only 1. Now we will use the original X set to determine teh ideal number of principal components for both train and test sets."
      ],
      "metadata": {
        "id": "88l60axAe8ZM"
      }
    },
    {
      "cell_type": "code",
      "source": [
        "max = 30\n",
        "pca.fit(X)\n",
        "plt.plot(range(1, max+1), pca.explained_variance_ratio_[:max], marker = '.')\n",
        "plt.xticks(ticks = range(1, max+1))\n",
        "plt.xlabel('Principal Component')\n",
        "plt.ylabel('Proportion of Explained Variance')\n",
        "plt.grid()"
      ],
      "metadata": {
        "colab": {
          "base_uri": "https://localhost:8080/",
          "height": 278
        },
        "id": "ZCRr3RZ3epDU",
        "outputId": "d7cbd6ce-ad97-4645-a280-a98da9797271"
      },
      "execution_count": 188,
      "outputs": [
        {
          "output_type": "display_data",
          "data": {
            "image/png": "[encoded data removed]",
            "text/plain": [
              "<Figure size 432x288 with 1 Axes>"
            ]
          },
          "metadata": {
            "needs_background": "light"
          }
        }
      ]
    },
    {
      "cell_type": "markdown",
      "source": [
        "The proportion of variance explained just keeps getting smaller but at around 20 components, the value already reached 0.01 which is already a good value. We can use 20 as the number of components to use in both test and train sets."
      ],
      "metadata": {
        "id": "HpAEqaJHgS-9"
      }
    },
    {
      "cell_type": "code",
      "source": [
        "# Instantiate & fit data using PCA with n = 20\n",
        "pca = PCA(n_components = 20)\n",
        "\n",
        "# Fit and transform train set\n",
        "pca.fit(X_train_sc)\n",
        "X_train_pc = pca.transform(X_train_sc)\n",
        "\n",
        "# Fit and transform test set\n",
        "pca.fit(X_test_sc)\n",
        "X_test_pc = pca.transform(X_test_sc)"
      ],
      "metadata": {
        "id": "fAtJlFKQgSXv"
      },
      "execution_count": 189,
      "outputs": []
    },
    {
      "cell_type": "markdown",
      "source": [
        "# Deep Learning"
      ],
      "metadata": {
        "id": "VmbXqmR9g2ce"
      }
    },
    {
      "cell_type": "code",
      "source": [
        "# Step 1: Define our network structure\n",
        "# Save the number of features we have as our input shape\n",
        "input_shape = X_train_pc.shape[1]\n",
        "input_shape"
      ],
      "metadata": {
        "colab": {
          "base_uri": "https://localhost:8080/"
        },
        "id": "S4bj77GwhAEi",
        "outputId": "133cf00f-d281-4244-eca5-e5929df8e7a9"
      },
      "execution_count": 191,
      "outputs": [
        {
          "output_type": "execute_result",
          "data": {
            "text/plain": [
              "20"
            ]
          },
          "metadata": {},
          "execution_count": 191
        }
      ]
    },
    {
      "cell_type": "markdown",
      "source": [
        "## First Sequential Model Iteration"
      ],
      "metadata": {
        "id": "01BQI2kRkK6c"
      }
    },
    {
      "cell_type": "code",
      "source": [
        "# Instantiate Sequential model\n",
        "model = Sequential()\n",
        "\n",
        "# number of neurons for each layer\n",
        "n1 = 14\n",
        "n2 = 14\n",
        "n3 = 8\n",
        "\n",
        "# First hidden layer\n",
        "model.add(Dense(n1, # How many neurons you have in your first hidden layer\n",
        "                input_dim = input_shape, # What is the shape of your input features (number of columns)\n",
        "                activation = 'relu')) # What activation function are you using?\n",
        "# Second hidden layer\n",
        "model.add(Dense(n2, # How many neurons you have in your second hidden layer\n",
        "                activation = 'relu')) # What activation function are you using?\n",
        "# Third hidden layer\n",
        "#model.add(Dense(n3, # How many neurons you have in your second hidden layer\n",
        "#                activation = 'relu')) # What activation function are you using?\n",
        "\n",
        "\n",
        "\n",
        "# Output layer\n",
        "model.add(Dense(1, activation = 'sigmoid'))\n",
        "\n",
        "\n",
        "# Step 2: Compile\n",
        "model.compile(loss = 'bce', optimizer = 'adam', metrics = ['acc'])\n",
        "\n",
        "\n",
        "# Step 3: Fit our model\n",
        "history = model.fit(X_train_pc, y_train,\n",
        "                    validation_data = (X_test_pc, y_test), \n",
        "                    epochs=30)\n",
        "\n",
        "\n",
        "\n"
      ],
      "metadata": {
        "colab": {
          "base_uri": "https://localhost:8080/"
        },
        "id": "Prbke_CkhyQ6",
        "outputId": "5789968b-bb15-487e-d4c4-f504c89dbbf7"
      },
      "execution_count": 204,
      "outputs": [
        {
          "output_type": "stream",
          "name": "stdout",
          "text": [
            "Epoch 1/30\n",
            "299/299 [==============================] - 2s 5ms/step - loss: 0.4908 - acc: 0.8009 - val_loss: 0.6038 - val_acc: 0.7366\n",
            "Epoch 2/30\n",
            "299/299 [==============================] - 1s 4ms/step - loss: 0.4020 - acc: 0.8463 - val_loss: 0.6357 - val_acc: 0.7381\n",
            "Epoch 3/30\n",
            "299/299 [==============================] - 1s 5ms/step - loss: 0.3762 - acc: 0.8526 - val_loss: 0.6635 - val_acc: 0.7278\n",
            "Epoch 4/30\n",
            "299/299 [==============================] - 1s 5ms/step - loss: 0.3626 - acc: 0.8566 - val_loss: 0.6749 - val_acc: 0.7341\n",
            "Epoch 5/30\n",
            "299/299 [==============================] - 1s 4ms/step - loss: 0.3540 - acc: 0.8595 - val_loss: 0.6778 - val_acc: 0.7287\n",
            "Epoch 6/30\n",
            "299/299 [==============================] - 1s 5ms/step - loss: 0.3470 - acc: 0.8621 - val_loss: 0.6841 - val_acc: 0.7268\n",
            "Epoch 7/30\n",
            "299/299 [==============================] - 1s 4ms/step - loss: 0.3409 - acc: 0.8654 - val_loss: 0.6946 - val_acc: 0.7228\n",
            "Epoch 8/30\n",
            "299/299 [==============================] - 1s 4ms/step - loss: 0.3364 - acc: 0.8659 - val_loss: 0.7107 - val_acc: 0.7290\n",
            "Epoch 9/30\n",
            "299/299 [==============================] - 1s 4ms/step - loss: 0.3324 - acc: 0.8669 - val_loss: 0.7167 - val_acc: 0.7209\n",
            "Epoch 10/30\n",
            "299/299 [==============================] - 1s 4ms/step - loss: 0.3290 - acc: 0.8665 - val_loss: 0.7279 - val_acc: 0.7177\n",
            "Epoch 11/30\n",
            "299/299 [==============================] - 1s 4ms/step - loss: 0.3255 - acc: 0.8679 - val_loss: 0.7362 - val_acc: 0.7181\n",
            "Epoch 12/30\n",
            "299/299 [==============================] - 1s 4ms/step - loss: 0.3231 - acc: 0.8716 - val_loss: 0.7386 - val_acc: 0.7042\n",
            "Epoch 13/30\n",
            "299/299 [==============================] - 1s 5ms/step - loss: 0.3199 - acc: 0.8715 - val_loss: 0.7529 - val_acc: 0.7174\n",
            "Epoch 14/30\n",
            "299/299 [==============================] - 1s 5ms/step - loss: 0.3179 - acc: 0.8719 - val_loss: 0.7605 - val_acc: 0.7143\n",
            "Epoch 15/30\n",
            "299/299 [==============================] - 1s 4ms/step - loss: 0.3157 - acc: 0.8730 - val_loss: 0.7551 - val_acc: 0.7061\n",
            "Epoch 16/30\n",
            "299/299 [==============================] - 1s 5ms/step - loss: 0.3142 - acc: 0.8729 - val_loss: 0.7904 - val_acc: 0.7083\n",
            "Epoch 17/30\n",
            "299/299 [==============================] - 1s 4ms/step - loss: 0.3129 - acc: 0.8734 - val_loss: 0.7817 - val_acc: 0.7093\n",
            "Epoch 18/30\n",
            "299/299 [==============================] - 1s 5ms/step - loss: 0.3108 - acc: 0.8724 - val_loss: 0.7722 - val_acc: 0.7137\n",
            "Epoch 19/30\n",
            "299/299 [==============================] - 1s 5ms/step - loss: 0.3099 - acc: 0.8743 - val_loss: 0.7726 - val_acc: 0.7077\n",
            "Epoch 20/30\n",
            "299/299 [==============================] - 1s 5ms/step - loss: 0.3097 - acc: 0.8748 - val_loss: 0.7698 - val_acc: 0.7165\n",
            "Epoch 21/30\n",
            "299/299 [==============================] - 1s 5ms/step - loss: 0.3083 - acc: 0.8754 - val_loss: 0.8013 - val_acc: 0.7080\n",
            "Epoch 22/30\n",
            "299/299 [==============================] - 1s 5ms/step - loss: 0.3070 - acc: 0.8755 - val_loss: 0.8119 - val_acc: 0.7080\n",
            "Epoch 23/30\n",
            "299/299 [==============================] - 1s 4ms/step - loss: 0.3059 - acc: 0.8765 - val_loss: 0.7788 - val_acc: 0.7146\n",
            "Epoch 24/30\n",
            "299/299 [==============================] - 1s 4ms/step - loss: 0.3051 - acc: 0.8784 - val_loss: 0.8082 - val_acc: 0.7086\n",
            "Epoch 25/30\n",
            "299/299 [==============================] - 1s 5ms/step - loss: 0.3050 - acc: 0.8786 - val_loss: 0.8125 - val_acc: 0.7064\n",
            "Epoch 26/30\n",
            "299/299 [==============================] - 1s 5ms/step - loss: 0.3031 - acc: 0.8778 - val_loss: 0.8313 - val_acc: 0.6992\n",
            "Epoch 27/30\n",
            "299/299 [==============================] - 1s 4ms/step - loss: 0.3027 - acc: 0.8790 - val_loss: 0.8213 - val_acc: 0.7074\n",
            "Epoch 28/30\n",
            "299/299 [==============================] - 1s 5ms/step - loss: 0.3017 - acc: 0.8792 - val_loss: 0.8241 - val_acc: 0.6989\n",
            "Epoch 29/30\n",
            "299/299 [==============================] - 1s 5ms/step - loss: 0.3019 - acc: 0.8778 - val_loss: 0.8376 - val_acc: 0.6983\n",
            "Epoch 30/30\n",
            "299/299 [==============================] - 1s 4ms/step - loss: 0.3011 - acc: 0.8798 - val_loss: 0.8282 - val_acc: 0.7017\n"
          ]
        }
      ]
    },
    {
      "cell_type": "code",
      "source": [
        "# Visualize the loss\n",
        "plt.plot(history.history['loss'], label='Train loss')\n",
        "plt.plot(history.history['val_loss'], label='Test Loss')\n",
        "plt.legend();"
      ],
      "metadata": {
        "colab": {
          "base_uri": "https://localhost:8080/",
          "height": 265
        },
        "id": "Nn50KLJqivuK",
        "outputId": "d962c9c9-c266-4871-9a0a-6aea3fc96fb9"
      },
      "execution_count": 205,
      "outputs": [
        {
          "output_type": "display_data",
          "data": {
            "image/png": "[encoded data removed]",
            "text/plain": [
              "<Figure size 432x288 with 1 Axes>"
            ]
          },
          "metadata": {
            "needs_background": "light"
          }
        }
      ]
    },
    {
      "cell_type": "code",
      "source": [
        "\n",
        "# Visualize the accuracy\n",
        "plt.plot(history.history['acc'], label='Train Accuracy')\n",
        "plt.plot(history.history['val_acc'], label='Test Accuracy')\n",
        "plt.legend();"
      ],
      "metadata": {
        "colab": {
          "base_uri": "https://localhost:8080/",
          "height": 265
        },
        "id": "Ef30nF-hi1Y5",
        "outputId": "48161f7a-bb84-4a3b-f4db-bbeb8d81839f"
      },
      "execution_count": 206,
      "outputs": [
        {
          "output_type": "display_data",
          "data": {
            "image/png": "[encoded data removed]",
            "text/plain": [
              "<Figure size 432x288 with 1 Axes>"
            ]
          },
          "metadata": {
            "needs_background": "light"
          }
        }
      ]
    },
    {
      "cell_type": "markdown",
      "source": [
        "Using this model, there is a good performance, in terms of the loss and accuracy for the train set but has a severe case of overfitting. There is also overtraining which can mean that the network used is too complex."
      ],
      "metadata": {
        "id": "tJ61sB2ijc5G"
      }
    },
    {
      "cell_type": "markdown",
      "source": [
        "## Second Sequential Model Iteration\n",
        "Reduced number of neurons"
      ],
      "metadata": {
        "id": "EEspIkp0kora"
      }
    },
    {
      "cell_type": "code",
      "source": [
        "\n",
        "# Instantiate Sequential model\n",
        "model = Sequential()\n",
        "\n",
        "# number of neurons for each layer\n",
        "n1 = 3\n",
        "n2 = 3\n",
        "n3 = 8\n",
        "\n",
        "# First hidden layer\n",
        "model.add(Dense(n1, # How many neurons you have in your first hidden layer\n",
        "                input_dim = input_shape, # What is the shape of your input features (number of columns)\n",
        "                activation = 'relu')) # What activation function are you using?\n",
        "# Second hidden layer\n",
        "#model.add(Dense(n2, # How many neurons you have in your second hidden layer\n",
        "#                activation = 'relu')) # What activation function are you using?\n",
        "# Third hidden layer\n",
        "#model.add(Dense(n3, # How many neurons you have in your second hidden layer\n",
        "#                activation = 'relu')) # What activation function are you using?\n",
        "\n",
        "\n",
        "\n",
        "# Output layer\n",
        "model.add(Dense(1, activation = 'sigmoid'))\n",
        "\n",
        "\n",
        "# Step 2: Compile\n",
        "model.compile(loss = 'bce', optimizer = 'adam', metrics = ['acc'])\n",
        "\n",
        "\n",
        "# Step 3: Fit our model\n",
        "history = model.fit(X_train_pc, y_train,\n",
        "                    validation_data = (X_test_pc, y_test), \n",
        "                    epochs=20)\n",
        "\n",
        "\n"
      ],
      "metadata": {
        "colab": {
          "base_uri": "https://localhost:8080/"
        },
        "id": "EyjvIktXknkU",
        "outputId": "0f4abd86-b115-40ba-d904-af4efd7db7b1"
      },
      "execution_count": 222,
      "outputs": [
        {
          "output_type": "stream",
          "name": "stdout",
          "text": [
            "Epoch 1/20\n",
            "299/299 [==============================] - 3s 7ms/step - loss: 0.6522 - acc: 0.7115 - val_loss: 0.7214 - val_acc: 0.7039\n",
            "Epoch 2/20\n",
            "299/299 [==============================] - 3s 9ms/step - loss: 0.4704 - acc: 0.8081 - val_loss: 0.7217 - val_acc: 0.7262\n",
            "Epoch 3/20\n",
            "299/299 [==============================] - 3s 8ms/step - loss: 0.4250 - acc: 0.8342 - val_loss: 0.7355 - val_acc: 0.7237\n",
            "Epoch 4/20\n",
            "299/299 [==============================] - 2s 7ms/step - loss: 0.4030 - acc: 0.8448 - val_loss: 0.7483 - val_acc: 0.7237\n",
            "Epoch 5/20\n",
            "299/299 [==============================] - 2s 8ms/step - loss: 0.3902 - acc: 0.8494 - val_loss: 0.7468 - val_acc: 0.7240\n",
            "Epoch 6/20\n",
            "299/299 [==============================] - 2s 8ms/step - loss: 0.3820 - acc: 0.8531 - val_loss: 0.7628 - val_acc: 0.7281\n",
            "Epoch 7/20\n",
            "299/299 [==============================] - 3s 9ms/step - loss: 0.3760 - acc: 0.8534 - val_loss: 0.7698 - val_acc: 0.7256\n",
            "Epoch 8/20\n",
            "299/299 [==============================] - 3s 10ms/step - loss: 0.3714 - acc: 0.8554 - val_loss: 0.7611 - val_acc: 0.7206\n",
            "Epoch 9/20\n",
            "299/299 [==============================] - 2s 8ms/step - loss: 0.3682 - acc: 0.8567 - val_loss: 0.7595 - val_acc: 0.7243\n",
            "Epoch 10/20\n",
            "299/299 [==============================] - 1s 4ms/step - loss: 0.3650 - acc: 0.8576 - val_loss: 0.7563 - val_acc: 0.7268\n",
            "Epoch 11/20\n",
            "299/299 [==============================] - 1s 4ms/step - loss: 0.3629 - acc: 0.8575 - val_loss: 0.7597 - val_acc: 0.7240\n",
            "Epoch 12/20\n",
            "299/299 [==============================] - 1s 4ms/step - loss: 0.3610 - acc: 0.8581 - val_loss: 0.7500 - val_acc: 0.7234\n",
            "Epoch 13/20\n",
            "299/299 [==============================] - 1s 4ms/step - loss: 0.3589 - acc: 0.8577 - val_loss: 0.7603 - val_acc: 0.7294\n",
            "Epoch 14/20\n",
            "299/299 [==============================] - 1s 4ms/step - loss: 0.3575 - acc: 0.8587 - val_loss: 0.7556 - val_acc: 0.7259\n",
            "Epoch 15/20\n",
            "299/299 [==============================] - 1s 4ms/step - loss: 0.3559 - acc: 0.8589 - val_loss: 0.7510 - val_acc: 0.7281\n",
            "Epoch 16/20\n",
            "299/299 [==============================] - 1s 4ms/step - loss: 0.3546 - acc: 0.8594 - val_loss: 0.7636 - val_acc: 0.7297\n",
            "Epoch 17/20\n",
            "299/299 [==============================] - 1s 4ms/step - loss: 0.3535 - acc: 0.8612 - val_loss: 0.7526 - val_acc: 0.7290\n",
            "Epoch 18/20\n",
            "299/299 [==============================] - 1s 4ms/step - loss: 0.3527 - acc: 0.8593 - val_loss: 0.7451 - val_acc: 0.7250\n",
            "Epoch 19/20\n",
            "299/299 [==============================] - 1s 4ms/step - loss: 0.3519 - acc: 0.8602 - val_loss: 0.7485 - val_acc: 0.7250\n",
            "Epoch 20/20\n",
            "299/299 [==============================] - 1s 4ms/step - loss: 0.3510 - acc: 0.8606 - val_loss: 0.7498 - val_acc: 0.7341\n"
          ]
        }
      ]
    },
    {
      "cell_type": "code",
      "source": [
        "# Visualize the loss\n",
        "plt.plot(history.history['loss'], label='Train loss')\n",
        "plt.plot(history.history['val_loss'], label='Test Loss')\n",
        "plt.legend();"
      ],
      "metadata": {
        "colab": {
          "base_uri": "https://localhost:8080/",
          "height": 265
        },
        "id": "darbS0-QqqLU",
        "outputId": "80ec97a7-010f-4d14-a0d0-b120a7cc22f2"
      },
      "execution_count": 223,
      "outputs": [
        {
          "output_type": "display_data",
          "data": {
            "image/png": "[encoded data removed]",
            "text/plain": [
              "<Figure size 432x288 with 1 Axes>"
            ]
          },
          "metadata": {
            "needs_background": "light"
          }
        }
      ]
    },
    {
      "cell_type": "code",
      "source": [
        "# Visualize the accuracy\n",
        "plt.plot(history.history['acc'], label='Train Accuracy')\n",
        "plt.plot(history.history['val_acc'], label='Test Accuracy')\n",
        "plt.legend();"
      ],
      "metadata": {
        "colab": {
          "base_uri": "https://localhost:8080/",
          "height": 265
        },
        "id": "Kq_1QyxOqs-X",
        "outputId": "80ce19a7-df90-433d-d831-ca52b49d4754"
      },
      "execution_count": 224,
      "outputs": [
        {
          "output_type": "display_data",
          "data": {
            "image/png": "[encoded data removed]",
            "text/plain": [
              "<Figure size 432x288 with 1 Axes>"
            ]
          },
          "metadata": {
            "needs_background": "light"
          }
        }
      ]
    },
    {
      "cell_type": "markdown",
      "source": [
        "This has  lesser case of overfitting and overtraining but the test accuracy and loss is still bad."
      ],
      "metadata": {
        "id": "O5hz64eOtLT1"
      }
    },
    {
      "cell_type": "markdown",
      "source": [
        "## Third Sequential Model Iteration\n",
        "Added regulizers"
      ],
      "metadata": {
        "id": "od7JRqyetXCL"
      }
    },
    {
      "cell_type": "code",
      "source": [
        "# Instantiate Sequential model\n",
        "model = Sequential()\n",
        "\n",
        "# number of neurons for each layer\n",
        "n1 = 5\n",
        "n2 = 3\n",
        "n3 = 8\n",
        "\n",
        "# First hidden layer\n",
        "model.add(Dense(n1, # How many neurons you have in your first hidden layer\n",
        "                input_dim = input_shape, # What is the shape of your input features (number of columns)\n",
        "                activation = 'relu',\n",
        "                kernel_regularizer=tf.keras.regularizers.l1())) # What activation function are you using?\n",
        "# Second hidden layer\n",
        "model.add(Dense(n2, # How many neurons you have in your second hidden layer\n",
        "                activation = 'relu',\n",
        "                kernel_regularizer=tf.keras.regularizers.l1())) # What activation function are you using?\n",
        "# Third hidden layer\n",
        "#model.add(Dense(n3, # How many neurons you have in your second hidden layer\n",
        "#                activation = 'relu')) # What activation function are you using?\n",
        "\n",
        "\n",
        "\n",
        "# Output layer\n",
        "model.add(Dense(1, activation = 'sigmoid'))\n",
        "\n",
        "\n",
        "# Step 2: Compile\n",
        "model.compile(loss = 'bce', optimizer = 'adam', metrics = ['acc'])\n",
        "\n",
        "\n",
        "# Step 3: Fit our model\n",
        "history = model.fit(X_train_pc, y_train,\n",
        "                    validation_data = (X_test_pc, y_test), \n",
        "                    epochs=20)\n"
      ],
      "metadata": {
        "colab": {
          "base_uri": "https://localhost:8080/"
        },
        "id": "zX1kJx4btVuA",
        "outputId": "4d48f35f-fac6-4b58-ffb1-40a4d7ce6851"
      },
      "execution_count": 234,
      "outputs": [
        {
          "output_type": "stream",
          "name": "stdout",
          "text": [
            "Epoch 1/20\n",
            "299/299 [==============================] - 6s 13ms/step - loss: 1.1564 - acc: 0.5609 - val_loss: 0.9324 - val_acc: 0.7077\n",
            "Epoch 2/20\n",
            "299/299 [==============================] - 3s 9ms/step - loss: 0.7777 - acc: 0.7607 - val_loss: 0.7899 - val_acc: 0.7520\n",
            "Epoch 3/20\n",
            "299/299 [==============================] - 3s 10ms/step - loss: 0.6589 - acc: 0.8133 - val_loss: 0.7344 - val_acc: 0.7441\n",
            "Epoch 4/20\n",
            "299/299 [==============================] - 3s 10ms/step - loss: 0.5672 - acc: 0.8500 - val_loss: 0.6994 - val_acc: 0.7403\n",
            "Epoch 5/20\n",
            "299/299 [==============================] - 3s 9ms/step - loss: 0.5092 - acc: 0.8507 - val_loss: 0.6755 - val_acc: 0.7403\n",
            "Epoch 6/20\n",
            "299/299 [==============================] - 3s 9ms/step - loss: 0.4738 - acc: 0.8521 - val_loss: 0.6681 - val_acc: 0.7407\n",
            "Epoch 7/20\n",
            "299/299 [==============================] - 3s 9ms/step - loss: 0.4502 - acc: 0.8533 - val_loss: 0.6628 - val_acc: 0.7432\n",
            "Epoch 8/20\n",
            "299/299 [==============================] - 2s 7ms/step - loss: 0.4374 - acc: 0.8552 - val_loss: 0.6550 - val_acc: 0.7419\n",
            "Epoch 9/20\n",
            "299/299 [==============================] - 3s 10ms/step - loss: 0.4301 - acc: 0.8563 - val_loss: 0.6462 - val_acc: 0.7435\n",
            "Epoch 10/20\n",
            "299/299 [==============================] - 3s 8ms/step - loss: 0.4250 - acc: 0.8548 - val_loss: 0.6421 - val_acc: 0.7466\n",
            "Epoch 11/20\n",
            "299/299 [==============================] - 2s 8ms/step - loss: 0.4195 - acc: 0.8558 - val_loss: 0.6364 - val_acc: 0.7498\n",
            "Epoch 12/20\n",
            "299/299 [==============================] - 3s 9ms/step - loss: 0.4147 - acc: 0.8559 - val_loss: 0.6281 - val_acc: 0.7507\n",
            "Epoch 13/20\n",
            "299/299 [==============================] - 3s 9ms/step - loss: 0.4107 - acc: 0.8558 - val_loss: 0.6250 - val_acc: 0.7501\n",
            "Epoch 14/20\n",
            "299/299 [==============================] - 2s 8ms/step - loss: 0.4083 - acc: 0.8569 - val_loss: 0.6313 - val_acc: 0.7507\n",
            "Epoch 15/20\n",
            "299/299 [==============================] - 3s 8ms/step - loss: 0.4067 - acc: 0.8568 - val_loss: 0.6226 - val_acc: 0.7504\n",
            "Epoch 16/20\n",
            "299/299 [==============================] - 2s 7ms/step - loss: 0.4051 - acc: 0.8567 - val_loss: 0.6231 - val_acc: 0.7504\n",
            "Epoch 17/20\n",
            "299/299 [==============================] - 2s 8ms/step - loss: 0.4031 - acc: 0.8558 - val_loss: 0.6155 - val_acc: 0.7501\n",
            "Epoch 18/20\n",
            "299/299 [==============================] - 2s 7ms/step - loss: 0.4013 - acc: 0.8559 - val_loss: 0.6277 - val_acc: 0.7513\n",
            "Epoch 19/20\n",
            "299/299 [==============================] - 2s 8ms/step - loss: 0.4009 - acc: 0.8559 - val_loss: 0.6224 - val_acc: 0.7526\n",
            "Epoch 20/20\n",
            "299/299 [==============================] - 2s 8ms/step - loss: 0.4006 - acc: 0.8563 - val_loss: 0.6087 - val_acc: 0.7526\n"
          ]
        }
      ]
    },
    {
      "cell_type": "code",
      "source": [
        "# Visualize the loss\n",
        "plt.plot(history.history['loss'], label='Train loss')\n",
        "plt.plot(history.history['val_loss'], label='Test Loss')\n",
        "plt.legend();"
      ],
      "metadata": {
        "colab": {
          "base_uri": "https://localhost:8080/",
          "height": 265
        },
        "id": "xPqqwdTBu_ph",
        "outputId": "7da9289f-dfd0-48e9-a3d3-2bdbce9ffb1c"
      },
      "execution_count": 235,
      "outputs": [
        {
          "output_type": "display_data",
          "data": {
            "image/png": "[encoded data removed]",
            "text/plain": [
              "<Figure size 432x288 with 1 Axes>"
            ]
          },
          "metadata": {
            "needs_background": "light"
          }
        }
      ]
    },
    {
      "cell_type": "code",
      "source": [
        "# Visualize the accuracy\n",
        "plt.plot(history.history['acc'], label='Train Accuracy')\n",
        "plt.plot(history.history['val_acc'], label='Test Accuracy')\n",
        "plt.legend();"
      ],
      "metadata": {
        "colab": {
          "base_uri": "https://localhost:8080/",
          "height": 265
        },
        "id": "mlZ_TuFLvB51",
        "outputId": "ab4f1e09-0191-4564-ce1f-050a88f2b062"
      },
      "execution_count": 236,
      "outputs": [
        {
          "output_type": "display_data",
          "data": {
            "image/png": "[encoded data removed]",
            "text/plain": [
              "<Figure size 432x288 with 1 Axes>"
            ]
          },
          "metadata": {
            "needs_background": "light"
          }
        }
      ]
    },
    {
      "cell_type": "markdown",
      "source": [
        "## Fourth Sequantial Model Iteration\n",
        "Added Dropouts and Early Stopping"
      ],
      "metadata": {
        "id": "-4MzNNt5x6Fq"
      }
    },
    {
      "cell_type": "code",
      "source": [
        "\n",
        "\n",
        "# Instantiate Sequential model\n",
        "model = Sequential()\n",
        "\n",
        "# number of neurons for each layer\n",
        "n1 = 5\n",
        "n2 = 3\n",
        "n3 = 8\n",
        "\n",
        "# First hidden layer\n",
        "model.add(Dense(n1, # How many neurons you have in your first hidden layer\n",
        "                input_dim = input_shape, # What is the shape of your input features (number of columns)\n",
        "                activation = 'relu',# What activation function are you using?\n",
        "                kernel_regularizer=tf.keras.regularizers.l1())) \n",
        "\n",
        "model.add(Dropout(.2))\n",
        "\n",
        "# Second hidden layer\n",
        "model.add(Dense(n2, # How many neurons you have in your second hidden layer\n",
        "                activation = 'relu', # What activation function are you using?\n",
        "                kernel_regularizer=tf.keras.regularizers.l1()))\n",
        "\n",
        "model.add(Dropout(.2))\n",
        "\n",
        "# Third hidden layer\n",
        "#model.add(Dense(n3, # How many neurons you have in your second hidden layer\n",
        "#                activation = 'relu')) # What activation function are you using?\n",
        "\n",
        "\n",
        "\n",
        "# Output layer\n",
        "model.add(Dense(1, activation = 'sigmoid'))\n",
        "\n",
        "\n",
        "# Step 2: Compile\n",
        "model.compile(loss = 'bce', optimizer = 'adam', metrics = ['acc'])\n",
        "\n",
        "\n",
        "\n",
        "# Step 3: Fit our model\n",
        "\n",
        "# Early stopping\n",
        "early_stopping = EarlyStopping(patience = 5)\n",
        "\n",
        "history = model.fit(X_train_pc, y_train,\n",
        "                    validation_data = (X_test_pc, y_test), \n",
        "                    epochs=20,\n",
        "                    callbacks = [early_stopping])"
      ],
      "metadata": {
        "colab": {
          "base_uri": "https://localhost:8080/"
        },
        "id": "Xs4iXRn1wJOA",
        "outputId": "446132d2-c459-48d0-ebb9-92b99756586d"
      },
      "execution_count": 257,
      "outputs": [
        {
          "output_type": "stream",
          "name": "stdout",
          "text": [
            "Epoch 1/20\n",
            "299/299 [==============================] - 4s 8ms/step - loss: 0.9989 - acc: 0.6616 - val_loss: 0.8326 - val_acc: 0.7127\n",
            "Epoch 2/20\n",
            "299/299 [==============================] - 2s 7ms/step - loss: 0.7227 - acc: 0.7696 - val_loss: 0.7116 - val_acc: 0.7447\n",
            "Epoch 3/20\n",
            "299/299 [==============================] - 2s 8ms/step - loss: 0.6066 - acc: 0.7992 - val_loss: 0.6635 - val_acc: 0.7551\n",
            "Epoch 4/20\n",
            "299/299 [==============================] - 3s 8ms/step - loss: 0.5484 - acc: 0.8108 - val_loss: 0.6426 - val_acc: 0.7504\n",
            "Epoch 5/20\n",
            "299/299 [==============================] - 3s 9ms/step - loss: 0.5166 - acc: 0.8151 - val_loss: 0.6362 - val_acc: 0.7451\n",
            "Epoch 6/20\n",
            "299/299 [==============================] - 3s 9ms/step - loss: 0.5019 - acc: 0.8170 - val_loss: 0.6255 - val_acc: 0.7488\n",
            "Epoch 7/20\n",
            "299/299 [==============================] - 3s 9ms/step - loss: 0.4997 - acc: 0.8113 - val_loss: 0.6225 - val_acc: 0.7457\n",
            "Epoch 8/20\n",
            "299/299 [==============================] - 2s 8ms/step - loss: 0.4866 - acc: 0.8187 - val_loss: 0.6214 - val_acc: 0.7491\n",
            "Epoch 9/20\n",
            "299/299 [==============================] - 1s 5ms/step - loss: 0.4826 - acc: 0.8208 - val_loss: 0.6180 - val_acc: 0.7498\n",
            "Epoch 10/20\n",
            "299/299 [==============================] - 1s 5ms/step - loss: 0.4771 - acc: 0.8269 - val_loss: 0.6010 - val_acc: 0.7545\n",
            "Epoch 11/20\n",
            "299/299 [==============================] - 1s 5ms/step - loss: 0.4741 - acc: 0.8209 - val_loss: 0.6085 - val_acc: 0.7513\n",
            "Epoch 12/20\n",
            "299/299 [==============================] - 1s 5ms/step - loss: 0.4694 - acc: 0.8245 - val_loss: 0.5978 - val_acc: 0.7529\n",
            "Epoch 13/20\n",
            "299/299 [==============================] - 1s 5ms/step - loss: 0.4695 - acc: 0.8282 - val_loss: 0.6001 - val_acc: 0.7529\n",
            "Epoch 14/20\n",
            "299/299 [==============================] - 1s 5ms/step - loss: 0.4707 - acc: 0.8226 - val_loss: 0.6084 - val_acc: 0.7554\n",
            "Epoch 15/20\n",
            "299/299 [==============================] - 1s 5ms/step - loss: 0.4676 - acc: 0.8233 - val_loss: 0.5967 - val_acc: 0.7535\n",
            "Epoch 16/20\n",
            "299/299 [==============================] - 1s 5ms/step - loss: 0.4681 - acc: 0.8235 - val_loss: 0.5956 - val_acc: 0.7510\n",
            "Epoch 17/20\n",
            "299/299 [==============================] - 1s 5ms/step - loss: 0.4667 - acc: 0.8264 - val_loss: 0.6015 - val_acc: 0.7516\n",
            "Epoch 18/20\n",
            "299/299 [==============================] - 1s 5ms/step - loss: 0.4672 - acc: 0.8276 - val_loss: 0.6013 - val_acc: 0.7501\n",
            "Epoch 19/20\n",
            "299/299 [==============================] - 1s 5ms/step - loss: 0.4688 - acc: 0.8252 - val_loss: 0.6196 - val_acc: 0.7545\n",
            "Epoch 20/20\n",
            "299/299 [==============================] - 1s 5ms/step - loss: 0.4629 - acc: 0.8274 - val_loss: 0.6114 - val_acc: 0.7510\n"
          ]
        }
      ]
    },
    {
      "cell_type": "code",
      "source": [
        "# Visualize the loss\n",
        "plt.plot(history.history['loss'], label='Train loss')\n",
        "plt.plot(history.history['val_loss'], label='Test Loss')\n",
        "plt.legend();"
      ],
      "metadata": {
        "colab": {
          "base_uri": "https://localhost:8080/",
          "height": 265
        },
        "id": "nSmuOWr3wmRr",
        "outputId": "0987619c-1ca8-43f8-b344-4aaae97a55dc"
      },
      "execution_count": 258,
      "outputs": [
        {
          "output_type": "display_data",
          "data": {
            "image/png": "[encoded data removed]",
            "text/plain": [
              "<Figure size 432x288 with 1 Axes>"
            ]
          },
          "metadata": {
            "needs_background": "light"
          }
        }
      ]
    },
    {
      "cell_type": "code",
      "source": [
        "# Visualize the accuracy\n",
        "plt.plot(history.history['acc'], label='Train Accuracy')\n",
        "plt.plot(history.history['val_acc'], label='Test Accuracy')\n",
        "plt.legend();"
      ],
      "metadata": {
        "colab": {
          "base_uri": "https://localhost:8080/",
          "height": 265
        },
        "id": "MqnOAUk7woRx",
        "outputId": "7a5c16a1-e32c-466a-d741-80d87fac7fec"
      },
      "execution_count": 259,
      "outputs": [
        {
          "output_type": "display_data",
          "data": {
            "image/png": "[encoded data removed]",
            "text/plain": [
              "<Figure size 432x288 with 1 Axes>"
            ]
          },
          "metadata": {
            "needs_background": "light"
          }
        }
      ]
    },
    {
      "cell_type": "markdown",
      "source": [
        "From the plots of the accuracies and loss values, the last sequential model is the best among the models since it has a low value for the loss and high value for the accuracy, for both the training and test sets. Moreover, teh values for the train and test doesn't differ by a large value which means that the model doesn't overfit (not that much)."
      ],
      "metadata": {
        "id": "_BaAKnwF0CMw"
      }
    },
    {
      "cell_type": "markdown",
      "source": [
        "# Final Model Evaluation"
      ],
      "metadata": {
        "id": "v8gzLuFO0fCC"
      }
    },
    {
      "cell_type": "code",
      "source": [
        "# Create predictions based on the final model\n",
        "y_pred = model.predict(X_test_pc)"
      ],
      "metadata": {
        "id": "xyZ8cw6o0hh_"
      },
      "execution_count": 262,
      "outputs": []
    },
    {
      "cell_type": "code",
      "source": [
        "from sklearn.metrics import confusion_matrix, plot_confusion_matrix\n",
        "\n",
        "y_pred_class = y_pred > 0.5\n",
        "cm = confusion_matrix(y_test, y_pred_class)\n",
        "tn, fp, fn, tp = cm.ravel()"
      ],
      "metadata": {
        "id": "aswG-CLG1KR9"
      },
      "execution_count": 273,
      "outputs": []
    },
    {
      "cell_type": "code",
      "source": [
        "# Display the confusion Matrix\n",
        "cm_df = pd.DataFrame(cm, range(2),range(2))\n",
        "plt.figure(figsize = (5,5))\n",
        "\n",
        "sns.heatmap(cm_df, annot=True, annot_kws={\"size\": 12}, fmt='g', cmap = 'Blues')\n",
        "plt.ylabel('True Label')\n",
        "plt.xlabel('Predicted label')\n",
        "plt.show()\n"
      ],
      "metadata": {
        "colab": {
          "base_uri": "https://localhost:8080/",
          "height": 333
        },
        "id": "QsJsT3H91pU0",
        "outputId": "00691d2d-fb09-4be6-9489-698694210b21"
      },
      "execution_count": 295,
      "outputs": [
        {
          "output_type": "display_data",
          "data": {
            "image/png": "[encoded data removed]",
            "text/plain": [
              "<Figure size 360x360 with 2 Axes>"
            ]
          },
          "metadata": {
            "needs_background": "light"
          }
        }
      ]
    },
    {
      "cell_type": "code",
      "source": [
        "# Calculate the test accuracy\n",
        "accuracy = (tp + tn)/ len(y_pred)\n",
        "print(f'Test Accuracy = {accuracy:.3f}')"
      ],
      "metadata": {
        "colab": {
          "base_uri": "https://localhost:8080/"
        },
        "id": "XFbzyhXv4Jdu",
        "outputId": "09e5900c-40e0-4c04-df60-f9a7f3a203b5"
      },
      "execution_count": 281,
      "outputs": [
        {
          "output_type": "stream",
          "name": "stdout",
          "text": [
            "Test Accuracy = 0.751\n"
          ]
        }
      ]
    },
    {
      "cell_type": "code",
      "source": [
        "# calculate the False negative rate \n",
        "fnr = fn / (fn + tp)\n",
        "print(f'False Negative Rate = {fnr:.3f}')"
      ],
      "metadata": {
        "colab": {
          "base_uri": "https://localhost:8080/"
        },
        "id": "7J8VZHcm4Z3T",
        "outputId": "83432b9f-5f12-4d60-b813-134d93d63603"
      },
      "execution_count": 284,
      "outputs": [
        {
          "output_type": "stream",
          "name": "stdout",
          "text": [
            "False Negative Rate = 0.024\n"
          ]
        }
      ]
    },
    {
      "cell_type": "code",
      "source": [
        "# calculate the False positive rate \n",
        "fpr = fp / (fp + tn)\n",
        "print(f'False Positive Rate = {fpr:.3f}')"
      ],
      "metadata": {
        "colab": {
          "base_uri": "https://localhost:8080/"
        },
        "id": "tY9SU4Ar40TV",
        "outputId": "e7fa521d-40a3-4113-d245-af6d3b61ea7c"
      },
      "execution_count": 286,
      "outputs": [
        {
          "output_type": "stream",
          "name": "stdout",
          "text": [
            "False Positive Rate = 0.973\n"
          ]
        }
      ]
    },
    {
      "cell_type": "markdown",
      "source": [
        "This model has a decent accuracy score of around 75% but this mainly comes from its low False Negativity Rate. However, the model has high False Negativity Rate, which could also come from the dataset being highly inbalanced. This means that the model is good at correctly predicting which students will actually pass but bad at predicting which students will actually fail. With this accuracy score, it is already good at solving the problem of determining which students will pass or fail. However, if the school's plan is to predict which ones will fail, maybe to do some intervention before they actually fail, this model will have a bad performance. "
      ],
      "metadata": {
        "id": "lBcfL1Sd6m1S"
      }
    },
    {
      "cell_type": "code",
      "source": [
        "y_test.value_counts()"
      ],
      "metadata": {
        "colab": {
          "base_uri": "https://localhost:8080/"
        },
        "id": "UUB5eWZd7hlU",
        "outputId": "2f9e4785-3ad9-47f3-8977-9c382e20cd87"
      },
      "execution_count": 294,
      "outputs": [
        {
          "output_type": "execute_result",
          "data": {
            "text/plain": [
              "1    2431\n",
              "0     754\n",
              "Name: passed_course, dtype: int64"
            ]
          },
          "metadata": {},
          "execution_count": 294
        }
      ]
    }
  ]
}